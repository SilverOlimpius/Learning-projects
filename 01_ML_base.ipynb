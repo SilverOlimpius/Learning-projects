{
 "cells": [
  {
   "cell_type": "markdown",
   "metadata": {},
   "source": [
    "# Данные"
   ]
  },
  {
   "cell_type": "code",
   "execution_count": 1,
   "metadata": {},
   "outputs": [],
   "source": [
    "import pandas as pd\n",
    "\n",
    "from sklearn.tree import DecisionTreeClassifier\n",
    "from sklearn.ensemble import RandomForestClassifier\n",
    "from sklearn.linear_model import LogisticRegression\n",
    "\n",
    "from sklearn.tree import DecisionTreeRegressor\n",
    "from sklearn.ensemble import RandomForestRegressor\n",
    "from sklearn.linear_model import LinearRegression\n",
    "\n",
    "from sklearn.model_selection import train_test_split\n",
    "\n",
    "from sklearn.metrics import accuracy_score\n",
    "from sklearn.metrics import mean_squared_error\n",
    "from sklearn.metrics import r2_score\n",
    "from sklearn.metrics import mean_absolute_error\n",
    "\n",
    "import joblib\n",
    "\n",
    "# обучить модель (как раньше)\n",
    "train = pd.read_csv('tweets_lemm_train.csv')\n",
    "test = pd.read_csv('tweets_lemm_test.csv')"
   ]
  },
  {
   "cell_type": "code",
   "execution_count": 2,
   "metadata": {},
   "outputs": [],
   "source": [
    "#df"
   ]
  },
  {
   "cell_type": "code",
   "execution_count": 18,
   "metadata": {},
   "outputs": [],
   "source": [
    "target = data['Arrival Delay']\n",
    "features = data.drop(['Arrival Delay'] , axis=1)\n",
    "features_train, features_valid, target_train, target_valid = train_test_split(features, target, test_size=0.25, random_state=12345)"
   ]
  },
  {
   "cell_type": "code",
   "execution_count": 20,
   "metadata": {},
   "outputs": [
    {
     "name": "stdout",
     "output_type": "stream",
     "text": [
      "29.05024878318396 depth = 1\n",
      "28.17662249076827 depth = 2\n",
      "27.621410706295897 depth = 3\n",
      "27.207398918959612 depth = 4\n",
      "26.826976756365152 depth = 5\n",
      "26.47134460354994 depth = 6\n",
      "26.1714780983311 depth = 7\n",
      "25.91710383097888 depth = 8\n",
      "25.76155591898892 depth = 9\n",
      "25.63176223685739 depth = 10\n",
      "25.573148934738114 depth = 11\n",
      "25.543812554450305 depth = 12\n",
      "25.6002847351951 depth = 13\n",
      "25.722069774594832 depth = 14\n",
      "25.817126504322434 depth = 15\n"
     ]
    }
   ],
   "source": [
    "for depth in range(1, 16, 1):\n",
    "    modelRandomForestRegressor = RandomForestRegressor(n_estimators=20, max_depth=depth, random_state=12345)\n",
    "    modelRandomForestRegressor.fit(features_train, target_train)\n",
    "    predictions = modelRandomForestRegressor.predict(features_valid)\n",
    "    print(mean_absolute_error(predictions, target_valid), 'depth =', depth)"
   ]
  },
  {
   "cell_type": "code",
   "execution_count": 24,
   "metadata": {},
   "outputs": [
    {
     "name": "stdout",
     "output_type": "stream",
     "text": [
      "25.817126504322434\n",
      "CPU times: user 17 s, sys: 4 ms, total: 17 s\n",
      "Wall time: 17.2 s\n"
     ]
    }
   ],
   "source": [
    "%%time\n",
    "\n",
    "model = RandomForestRegressor(n_estimators=100, max_depth=12, random_state=12345)\n",
    "model.fit(features_train, target_train)\n",
    "predictions = modelRandomForestRegressor.predict(features_valid)\n",
    "print(mean_absolute_error(predictions, target_valid))"
   ]
  },
  {
   "cell_type": "code",
   "execution_count": 23,
   "metadata": {},
   "outputs": [
    {
     "data": {
      "text/plain": [
       "['RandomForestRegressor100and12.joblib']"
      ]
     },
     "execution_count": 23,
     "metadata": {},
     "output_type": "execute_result"
    }
   ],
   "source": [
    "joblib.dump(model, 'RandomForestRegressor100and12.joblib')"
   ]
  },
  {
   "cell_type": "markdown",
   "metadata": {},
   "source": [
    "# Модель решающего дерева"
   ]
  },
  {
   "cell_type": "code",
   "execution_count": 20,
   "metadata": {},
   "outputs": [
    {
     "name": "stdout",
     "output_type": "stream",
     "text": [
      "7.616244304937199\n"
     ]
    }
   ],
   "source": [
    "DecisionTreemodel = DecisionTreeClassifier()\n",
    "\n",
    "DecisionTreemodel.fit(features, target)\n",
    "\n",
    "predictions = DecisionTreemodel.predict(features_valid)\n",
    "\n",
    "mse = mean_squared_error(answers, predictions)\n",
    "rmse = mse**0.5\n",
    "print(rmse/1000000)"
   ]
  },
  {
   "cell_type": "markdown",
   "metadata": {},
   "source": [
    "# Модель случайного леса"
   ]
  },
  {
   "cell_type": "code",
   "execution_count": 21,
   "metadata": {},
   "outputs": [
    {
     "name": "stdout",
     "output_type": "stream",
     "text": [
      "12.06577025925526\n"
     ]
    }
   ],
   "source": [
    "RandomForestmodel = RandomForestClassifier(random_state=12345, n_estimators=3)\n",
    "\n",
    "RandomForestmodel.fit(features, target)\n",
    "\n",
    "predictions = RandomForestmodel.predict(features_valid)\n",
    "\n",
    "mse = mean_squared_error(answers, predictions)\n",
    "rmse = mse**0.5\n",
    "print(rmse/1000000)"
   ]
  },
  {
   "cell_type": "markdown",
   "metadata": {},
   "source": [
    "# Модель линейной регрессии"
   ]
  },
  {
   "cell_type": "code",
   "execution_count": 22,
   "metadata": {},
   "outputs": [
    {
     "name": "stdout",
     "output_type": "stream",
     "text": [
      "7.726006697008265\n"
     ]
    }
   ],
   "source": [
    "LinearRegressionmodel = LinearRegression()\n",
    "\n",
    "LinearRegressionmodel.fit(features, target)\n",
    "\n",
    "predictions = LinearRegressionmodel.predict(features_valid)\n",
    "\n",
    "mse = mean_squared_error(answers, predictions)\n",
    "rmse = mse**0.5\n",
    "print(rmse/1000000)\n",
    "\n",
    "#сохранить модель\n",
    "#joblib.dump(LinearRegressionmodel, 'LinearRegression.joblib')"
   ]
  },
  {
   "cell_type": "code",
   "execution_count": 34,
   "metadata": {},
   "outputs": [
    {
     "name": "stdout",
     "output_type": "stream",
     "text": [
      "n_estimators = 10 : 7077427.434975895\n",
      "n_estimators = 20 : 6793759.138051992\n",
      "n_estimators = 30 : 6633132.657833276\n",
      "n_estimators = 40 : 6802192.526724213\n",
      "n_estimators = 50 : 7014454.694980176\n"
     ]
    }
   ],
   "source": [
    "for estim in range(10, 51, 10):\n",
    "    model = RandomForestRegressor(n_estimators=estim, max_depth=10, random_state=0) #\n",
    "    model.fit(features, target)\n",
    "    predicted_valid = model.predict(features_valid)\n",
    "    rmse = mean_squared_error(answers, predicted_valid)**0.5\n",
    "    print(\"n_estimators =\", estim, \":\", rmse)"
   ]
  },
  {
   "cell_type": "code",
   "execution_count": 36,
   "metadata": {},
   "outputs": [
    {
     "data": {
      "text/plain": [
       "['10estimatorsmodel.joblib']"
      ]
     },
     "execution_count": 36,
     "metadata": {},
     "output_type": "execute_result"
    }
   ],
   "source": []
  },
  {
   "cell_type": "code",
   "execution_count": 41,
   "metadata": {},
   "outputs": [
    {
     "data": {
      "text/plain": [
       "['estimatorsmodel10.joblib']"
      ]
     },
     "execution_count": 41,
     "metadata": {},
     "output_type": "execute_result"
    }
   ],
   "source": [
    "estimatorsmodel10 = RandomForestRegressor(n_estimators=10, max_depth=10, random_state=0) #\n",
    "estimatorsmodel10.fit(features, target)\n",
    "joblib.dump(estimatorsmodel10, 'estimatorsmodel10.joblib')"
   ]
  },
  {
   "cell_type": "code",
   "execution_count": 38,
   "metadata": {},
   "outputs": [
    {
     "data": {
      "text/plain": [
       "['estimatorsmodel20.joblib']"
      ]
     },
     "execution_count": 38,
     "metadata": {},
     "output_type": "execute_result"
    }
   ],
   "source": [
    "estimatorsmodel20 = RandomForestRegressor(n_estimators=20, max_depth=10, random_state=0) #\n",
    "estimatorsmodel20.fit(features, target)\n",
    "joblib.dump(estimatorsmodel20, 'estimatorsmodel20.joblib')"
   ]
  },
  {
   "cell_type": "code",
   "execution_count": 39,
   "metadata": {},
   "outputs": [
    {
     "data": {
      "text/plain": [
       "['estimatorsmodel30.joblib']"
      ]
     },
     "execution_count": 39,
     "metadata": {},
     "output_type": "execute_result"
    }
   ],
   "source": [
    "estimatorsmodel30 = RandomForestRegressor(n_estimators=30, max_depth=10, random_state=0) #\n",
    "estimatorsmodel30.fit(features, target)\n",
    "joblib.dump(estimatorsmodel30, 'estimatorsmodel30.joblib')"
   ]
  },
  {
   "cell_type": "code",
   "execution_count": 40,
   "metadata": {},
   "outputs": [
    {
     "data": {
      "text/plain": [
       "['estimatorsmodel40.joblib']"
      ]
     },
     "execution_count": 40,
     "metadata": {},
     "output_type": "execute_result"
    }
   ],
   "source": [
    "estimatorsmodel40 = RandomForestRegressor(n_estimators=40, max_depth=10, random_state=0) #\n",
    "estimatorsmodel40.fit(features, target)\n",
    "joblib.dump(estimatorsmodel40, 'estimatorsmodel40.joblib')"
   ]
  },
  {
   "cell_type": "code",
   "execution_count": 42,
   "metadata": {},
   "outputs": [
    {
     "data": {
      "text/plain": [
       "['estimatorsmodel50.joblib']"
      ]
     },
     "execution_count": 42,
     "metadata": {},
     "output_type": "execute_result"
    }
   ],
   "source": [
    "estimatorsmodel50 = RandomForestRegressor(n_estimators=50, max_depth=10, random_state=0) #\n",
    "estimatorsmodel50.fit(features, target)\n",
    "joblib.dump(estimatorsmodel50, 'estimatorsmodel50.joblib')"
   ]
  },
  {
   "cell_type": "code",
   "execution_count": null,
   "metadata": {},
   "outputs": [],
   "source": []
  }
 ],
 "metadata": {
  "kernelspec": {
   "display_name": "Python 3",
   "language": "python",
   "name": "python3"
  },
  "language_info": {
   "codemirror_mode": {
    "name": "ipython",
    "version": 3
   },
   "file_extension": ".py",
   "mimetype": "text/x-python",
   "name": "python",
   "nbconvert_exporter": "python",
   "pygments_lexer": "ipython3",
   "version": "3.7.6"
  }
 },
 "nbformat": 4,
 "nbformat_minor": 2
}
