{
 "cells": [
  {
   "cell_type": "code",
   "execution_count": 24,
   "metadata": {},
   "outputs": [
    {
     "name": "stdout",
     "output_type": "stream",
     "text": [
      "1 - год инвестировать, капитал = 178 тыс долларах\n",
      "можно получать дивидидендов в год 5 тыс долларах\n",
      "\n",
      "2 - год инвестировать, капитал = 383 тыс долларах\n",
      "можно получать дивидидендов в год 11 тыс долларах\n",
      "\n",
      "3 - год инвестировать, капитал = 619 тыс долларах\n",
      "можно получать дивидидендов в год 19 тыс долларах\n",
      "\n",
      "4 - год инвестировать, капитал = 890 тыс долларах\n",
      "можно получать дивидидендов в год 27 тыс долларах\n",
      "\n",
      "5 - год инвестировать, капитал = 1202 тыс долларах\n",
      "можно получать дивидидендов в год 36 тыс долларах\n",
      "\n"
     ]
    }
   ],
   "source": [
    "total = 0\n",
    "k = 155 # накопления в год, в тыс долларах\n",
    "for i in range(5):\n",
    "    total = (total + k) * 1.15 # 15% - процент на который может расти при умеренной доходности, капитал в год\n",
    "    print(i+1 ,'- год инвестировать, капитал =',round(total),'тыс долларах')\n",
    "    print('можно получать дивидидендов в год', round(total*0.03),'тыс долларах')\n",
    "    print()"
   ]
  },
  {
   "cell_type": "code",
   "execution_count": null,
   "metadata": {},
   "outputs": [],
   "source": []
  },
  {
   "cell_type": "code",
   "execution_count": null,
   "metadata": {},
   "outputs": [],
   "source": []
  }
 ],
 "metadata": {
  "kernelspec": {
   "display_name": "Python 3",
   "language": "python",
   "name": "python3"
  },
  "language_info": {
   "codemirror_mode": {
    "name": "ipython",
    "version": 3
   },
   "file_extension": ".py",
   "mimetype": "text/x-python",
   "name": "python",
   "nbconvert_exporter": "python",
   "pygments_lexer": "ipython3",
   "version": "3.7.6"
  }
 },
 "nbformat": 4,
 "nbformat_minor": 4
}
