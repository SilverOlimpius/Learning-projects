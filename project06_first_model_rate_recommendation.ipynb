{
 "cells": [
  {
   "cell_type": "markdown",
   "metadata": {},
   "source": [
    "# Проект 6 Первая модель машинного обучения - \"Рекомендация тарифов\""
   ]
  },
  {
   "cell_type": "markdown",
   "metadata": {},
   "source": [
    "В вашем распоряжении данные о поведении клиентов, которые уже перешли на эти тарифы (из проекта курса «Статистический анализ данных»). Нужно построить модель для задачи классификации, которая выберет подходящий тариф. Предобработка данных не понадобится — вы её уже сделали.\n",
    "\n",
    "Постройте модель с максимально большим значением *accuracy*. Чтобы сдать проект успешно, нужно довести долю правильных ответов по крайней мере до 0.75. Проверьте *accuracy* на тестовой выборке самостоятельно."
   ]
  },
  {
   "cell_type": "markdown",
   "metadata": {},
   "source": [
    "## 1. Откройте и изучите файл"
   ]
  },
  {
   "cell_type": "code",
   "execution_count": 2,
   "metadata": {},
   "outputs": [],
   "source": [
    "import pandas as pd\n",
    "data = pd.read_csv('users_behavior.csv')"
   ]
  },
  {
   "cell_type": "code",
   "execution_count": 3,
   "metadata": {},
   "outputs": [
    {
     "data": {
      "text/html": [
       "<div>\n",
       "<style scoped>\n",
       "    .dataframe tbody tr th:only-of-type {\n",
       "        vertical-align: middle;\n",
       "    }\n",
       "\n",
       "    .dataframe tbody tr th {\n",
       "        vertical-align: top;\n",
       "    }\n",
       "\n",
       "    .dataframe thead th {\n",
       "        text-align: right;\n",
       "    }\n",
       "</style>\n",
       "<table border=\"1\" class=\"dataframe\">\n",
       "  <thead>\n",
       "    <tr style=\"text-align: right;\">\n",
       "      <th></th>\n",
       "      <th>calls</th>\n",
       "      <th>minutes</th>\n",
       "      <th>messages</th>\n",
       "      <th>mb_used</th>\n",
       "      <th>is_ultra</th>\n",
       "    </tr>\n",
       "  </thead>\n",
       "  <tbody>\n",
       "    <tr>\n",
       "      <td>0</td>\n",
       "      <td>40.0</td>\n",
       "      <td>311.90</td>\n",
       "      <td>83.0</td>\n",
       "      <td>19915.42</td>\n",
       "      <td>0</td>\n",
       "    </tr>\n",
       "    <tr>\n",
       "      <td>1</td>\n",
       "      <td>85.0</td>\n",
       "      <td>516.75</td>\n",
       "      <td>56.0</td>\n",
       "      <td>22696.96</td>\n",
       "      <td>0</td>\n",
       "    </tr>\n",
       "    <tr>\n",
       "      <td>2</td>\n",
       "      <td>77.0</td>\n",
       "      <td>467.66</td>\n",
       "      <td>86.0</td>\n",
       "      <td>21060.45</td>\n",
       "      <td>0</td>\n",
       "    </tr>\n",
       "    <tr>\n",
       "      <td>3</td>\n",
       "      <td>106.0</td>\n",
       "      <td>745.53</td>\n",
       "      <td>81.0</td>\n",
       "      <td>8437.39</td>\n",
       "      <td>1</td>\n",
       "    </tr>\n",
       "    <tr>\n",
       "      <td>4</td>\n",
       "      <td>66.0</td>\n",
       "      <td>418.74</td>\n",
       "      <td>1.0</td>\n",
       "      <td>14502.75</td>\n",
       "      <td>0</td>\n",
       "    </tr>\n",
       "    <tr>\n",
       "      <td>...</td>\n",
       "      <td>...</td>\n",
       "      <td>...</td>\n",
       "      <td>...</td>\n",
       "      <td>...</td>\n",
       "      <td>...</td>\n",
       "    </tr>\n",
       "    <tr>\n",
       "      <td>3209</td>\n",
       "      <td>122.0</td>\n",
       "      <td>910.98</td>\n",
       "      <td>20.0</td>\n",
       "      <td>35124.90</td>\n",
       "      <td>1</td>\n",
       "    </tr>\n",
       "    <tr>\n",
       "      <td>3210</td>\n",
       "      <td>25.0</td>\n",
       "      <td>190.36</td>\n",
       "      <td>0.0</td>\n",
       "      <td>3275.61</td>\n",
       "      <td>0</td>\n",
       "    </tr>\n",
       "    <tr>\n",
       "      <td>3211</td>\n",
       "      <td>97.0</td>\n",
       "      <td>634.44</td>\n",
       "      <td>70.0</td>\n",
       "      <td>13974.06</td>\n",
       "      <td>0</td>\n",
       "    </tr>\n",
       "    <tr>\n",
       "      <td>3212</td>\n",
       "      <td>64.0</td>\n",
       "      <td>462.32</td>\n",
       "      <td>90.0</td>\n",
       "      <td>31239.78</td>\n",
       "      <td>0</td>\n",
       "    </tr>\n",
       "    <tr>\n",
       "      <td>3213</td>\n",
       "      <td>80.0</td>\n",
       "      <td>566.09</td>\n",
       "      <td>6.0</td>\n",
       "      <td>29480.52</td>\n",
       "      <td>1</td>\n",
       "    </tr>\n",
       "  </tbody>\n",
       "</table>\n",
       "<p>3214 rows × 5 columns</p>\n",
       "</div>"
      ],
      "text/plain": [
       "      calls  minutes  messages   mb_used  is_ultra\n",
       "0      40.0   311.90      83.0  19915.42         0\n",
       "1      85.0   516.75      56.0  22696.96         0\n",
       "2      77.0   467.66      86.0  21060.45         0\n",
       "3     106.0   745.53      81.0   8437.39         1\n",
       "4      66.0   418.74       1.0  14502.75         0\n",
       "...     ...      ...       ...       ...       ...\n",
       "3209  122.0   910.98      20.0  35124.90         1\n",
       "3210   25.0   190.36       0.0   3275.61         0\n",
       "3211   97.0   634.44      70.0  13974.06         0\n",
       "3212   64.0   462.32      90.0  31239.78         0\n",
       "3213   80.0   566.09       6.0  29480.52         1\n",
       "\n",
       "[3214 rows x 5 columns]"
      ]
     },
     "execution_count": 3,
     "metadata": {},
     "output_type": "execute_result"
    }
   ],
   "source": [
    "data"
   ]
  },
  {
   "cell_type": "markdown",
   "metadata": {},
   "source": [
    "## 2. Разбейте данные на выборки"
   ]
  },
  {
   "cell_type": "code",
   "execution_count": 4,
   "metadata": {},
   "outputs": [],
   "source": [
    "from sklearn.model_selection import train_test_split\n",
    "df_train, df_valid_and_test = train_test_split(data, test_size=0.4, random_state=12345)\n",
    "df_test, df_valid = train_test_split(df_valid_and_test, test_size=0.5, random_state=12345)\n",
    "\n",
    "features = df_train.drop(['is_ultra'], axis=1)\n",
    "target = df_train['is_ultra']\n",
    "\n",
    "features_valid = df_valid.drop(['is_ultra'], axis=1)\n",
    "answers =  df_valid['is_ultra']\n",
    "\n",
    "features_test = df_test.drop(['is_ultra'], axis=1)\n",
    "answers_test =  df_test['is_ultra']"
   ]
  },
  {
   "cell_type": "markdown",
   "metadata": {},
   "source": [
    "## 3. Исследуйте модели"
   ]
  },
  {
   "cell_type": "markdown",
   "metadata": {},
   "source": [
    "DecisionTreeClassifier"
   ]
  },
  {
   "cell_type": "code",
   "execution_count": 5,
   "metadata": {},
   "outputs": [
    {
     "name": "stdout",
     "output_type": "stream",
     "text": [
      "n_depth = 5 : 0.7838258164852255\n",
      "n_depth = 10 : 0.7884914463452566\n",
      "n_depth = 15 : 0.7713841368584758\n",
      "n_depth = 20 : 0.7325038880248833\n",
      "n_depth = 25 : 0.7309486780715396\n"
     ]
    }
   ],
   "source": [
    "from sklearn.tree import DecisionTreeClassifier\n",
    "\n",
    "from sklearn.metrics import accuracy_score\n",
    "\n",
    "for depth in range(5, 26, 5):\n",
    "    modelDecisionTreeClassifier = DecisionTreeClassifier(random_state=12345, max_depth=depth)\n",
    "    modelDecisionTreeClassifier.fit(features, target)\n",
    "    predictionsDecisionTreeClassifier = modelDecisionTreeClassifier.predict(features_valid)\n",
    "    accuracy = accuracy_score(answers, predictionsDecisionTreeClassifier)\n",
    "    print('n_depth =', depth ,\":\", accuracy)"
   ]
  },
  {
   "cell_type": "code",
   "execution_count": 6,
   "metadata": {},
   "outputs": [
    {
     "name": "stdout",
     "output_type": "stream",
     "text": [
      "n_estimators = 10 n_depth = 5 : 0.7900466562986003\n",
      "n_estimators = 10 n_depth = 10 : 0.8009331259720062\n",
      "n_estimators = 10 n_depth = 15 : 0.7962674961119751\n",
      "n_estimators = 10 n_depth = 20 : 0.7838258164852255\n",
      "n_estimators = 10 n_depth = 25 : 0.7807153965785381\n",
      "n_estimators = 20 n_depth = 5 : 0.7838258164852255\n",
      "n_estimators = 20 n_depth = 10 : 0.7978227060653188\n",
      "n_estimators = 20 n_depth = 15 : 0.7884914463452566\n",
      "n_estimators = 20 n_depth = 20 : 0.7884914463452566\n",
      "n_estimators = 20 n_depth = 25 : 0.7822706065318819\n",
      "n_estimators = 30 n_depth = 5 : 0.7869362363919129\n",
      "n_estimators = 30 n_depth = 10 : 0.7962674961119751\n",
      "n_estimators = 30 n_depth = 15 : 0.7916018662519441\n",
      "n_estimators = 30 n_depth = 20 : 0.7916018662519441\n",
      "n_estimators = 30 n_depth = 25 : 0.7791601866251944\n",
      "n_estimators = 40 n_depth = 5 : 0.7838258164852255\n",
      "n_estimators = 40 n_depth = 10 : 0.8009331259720062\n",
      "n_estimators = 40 n_depth = 15 : 0.7900466562986003\n",
      "n_estimators = 40 n_depth = 20 : 0.7884914463452566\n",
      "n_estimators = 40 n_depth = 25 : 0.7931570762052877\n",
      "n_estimators = 50 n_depth = 5 : 0.7853810264385692\n",
      "n_estimators = 50 n_depth = 10 : 0.8009331259720062\n",
      "n_estimators = 50 n_depth = 15 : 0.7993779160186625\n",
      "n_estimators = 50 n_depth = 20 : 0.7838258164852255\n",
      "n_estimators = 50 n_depth = 25 : 0.7916018662519441\n"
     ]
    }
   ],
   "source": [
    "from sklearn.ensemble import RandomForestClassifier\n",
    "for estim in range(10, 51, 10):\n",
    "    for depth in range(5, 26, 5):\n",
    "        modelRandomForestClassifier = RandomForestClassifier(random_state=12345, max_depth=depth, n_estimators=estim)\n",
    "        modelRandomForestClassifier.fit(features, target)\n",
    "        predictionsRandomForestClassifier = modelRandomForestClassifier.predict(features_valid)\n",
    "        accuracy = accuracy_score(answers, predictionsRandomForestClassifier)\n",
    "        print(\"n_estimators =\", estim, 'n_depth =', depth ,\":\", accuracy)"
   ]
  },
  {
   "cell_type": "markdown",
   "metadata": {},
   "source": [
    "По итогом перебора моделей и гиперпараметров, выявили, что лучшие результаты показала модель RandomForestClassifier с гиперпараметрами max_depth=10 и n_estimators=40"
   ]
  },
  {
   "cell_type": "code",
   "execution_count": 7,
   "metadata": {},
   "outputs": [
    {
     "data": {
      "text/plain": [
       "RandomForestClassifier(bootstrap=True, class_weight=None, criterion='gini',\n",
       "                       max_depth=10, max_features='auto', max_leaf_nodes=None,\n",
       "                       min_impurity_decrease=0.0, min_impurity_split=None,\n",
       "                       min_samples_leaf=1, min_samples_split=2,\n",
       "                       min_weight_fraction_leaf=0.0, n_estimators=40,\n",
       "                       n_jobs=None, oob_score=False, random_state=12345,\n",
       "                       verbose=0, warm_start=False)"
      ]
     },
     "execution_count": 7,
     "metadata": {},
     "output_type": "execute_result"
    }
   ],
   "source": [
    "# создадим модель, показавшую лучшие результаты\n",
    "modelRandomForestClassifier = RandomForestClassifier(random_state=12345, max_depth=10, n_estimators=40)\n",
    "modelRandomForestClassifier.fit(features, target)"
   ]
  },
  {
   "cell_type": "markdown",
   "metadata": {},
   "source": [
    "## 4. Проверьте модель на тестовой выборке"
   ]
  },
  {
   "cell_type": "code",
   "execution_count": 8,
   "metadata": {},
   "outputs": [
    {
     "data": {
      "text/plain": [
       "0.7962674961119751"
      ]
     },
     "execution_count": 8,
     "metadata": {},
     "output_type": "execute_result"
    }
   ],
   "source": [
    "test_predictions_RandomForestClassifier = modelRandomForestClassifier.predict(features_test)\n",
    "accuracy = accuracy_score(answers_test, test_predictions_RandomForestClassifier)\n",
    "accuracy"
   ]
  },
  {
   "cell_type": "markdown",
   "metadata": {},
   "source": [
    "Вывод: мы создали модель, которая показала и на валидационной и на тестовой выборке значение accuracy не меньше 0.75, можно считать задание выполненным "
   ]
  },
  {
   "cell_type": "markdown",
   "metadata": {},
   "source": [
    "## 5. (бонус) Проверьте модели на адекватность"
   ]
  },
  {
   "cell_type": "markdown",
   "metadata": {},
   "source": [
    "<font color='blue'>В этом разделе мы можем попытаться проверить, лучше ли наша модель какого-то элементарного способа предсказания, например, всегда предсказывать, что очередной клиент принадлежит к тарифу \"Смарт\". Проверь, какая эффективность была бы у такой модели.  \n",
    "    Также для автоматизации подобных проверок существует класс sklearn.dummy.DummyClassifier"
   ]
  },
  {
   "cell_type": "markdown",
   "metadata": {},
   "source": [
    "<font color='blue'>Итак, отличное начало работы с машинным обучением. Ты показываешь уверенное владение изучаемым материалом: грамотно разбиваешь данные на выборки, обучаешь модели, подбираешь гиперпараметры.    \n",
    "   В целом, работу можно принимать, однако я предлагаю еще немного доработать и довести проект до идеала, учтя мои комментарии. Однако это необязательно и я приму доработанный проект, как только пришлешь."
   ]
  }
 ],
 "metadata": {
  "kernelspec": {
   "display_name": "Python 3",
   "language": "python",
   "name": "python3"
  },
  "language_info": {
   "codemirror_mode": {
    "name": "ipython",
    "version": 3
   },
   "file_extension": ".py",
   "mimetype": "text/x-python",
   "name": "python",
   "nbconvert_exporter": "python",
   "pygments_lexer": "ipython3",
   "version": "3.7.6"
  }
 },
 "nbformat": 4,
 "nbformat_minor": 2
}
