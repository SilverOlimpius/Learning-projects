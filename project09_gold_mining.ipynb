{
 "cells": [
  {
   "cell_type": "markdown",
   "metadata": {},
   "source": [
    "# Проект 9 создание модели для предсказания коефициента восстановления золота из золотосодержащей руды\n",
    "\n",
    "#### Описание проекта\n",
    "\n",
    "Подготовьте прототип модели машинного обучения для «Цифры». Компания разрабатывает решения для эффективной работы промышленных предприятий.\n",
    "\n",
    "Модель должна предсказать коэффициент восстановления золота из золотосодержащей руды. В вашем распоряжении данные с параметрами добычи и очистки. \n",
    "\n",
    "Модель поможет оптимизировать производство, чтобы не запускать предприятие с убыточными характеристиками.\n",
    "\n",
    "Вам нужно:\n",
    "\n",
    "1. Подготовить данные;\n",
    "2. Провести исследовательский анализ данных;\n",
    "3. Построить и обучить модель.\n",
    "\n",
    "Чтобы выполнить проект, обращайтесь к библиотекам *pandas*, *matplotlib* и *sklearn.* Вам поможет их документация."
   ]
  },
  {
   "cell_type": "markdown",
   "metadata": {},
   "source": [
    "# 1. Подготовка данных"
   ]
  },
  {
   "cell_type": "code",
   "execution_count": 122,
   "metadata": {},
   "outputs": [],
   "source": [
    "import pandas as pd\n",
    "import numpy as np\n",
    "import matplotlib.pyplot as plt\n",
    "\n",
    "from sklearn.ensemble import RandomForestRegressor\n",
    "from sklearn.linear_model import LinearRegression\n",
    "\n",
    "from sklearn.metrics import mean_absolute_error\n",
    "\n",
    "from sklearn.model_selection import cross_val_score"
   ]
  },
  {
   "cell_type": "code",
   "execution_count": 123,
   "metadata": {},
   "outputs": [],
   "source": [
    "train_data = pd.read_csv('/datasets/gold_recovery_train.csv')\n",
    "test = pd.read_csv('/datasets/gold_recovery_test.csv')\n",
    "full = pd.read_csv('/datasets/gold_recovery_full.csv')"
   ]
  },
  {
   "cell_type": "code",
   "execution_count": 124,
   "metadata": {},
   "outputs": [],
   "source": [
    "#train_data.info()"
   ]
  },
  {
   "cell_type": "code",
   "execution_count": 125,
   "metadata": {},
   "outputs": [],
   "source": [
    "#test.info()"
   ]
  },
  {
   "cell_type": "code",
   "execution_count": 126,
   "metadata": {},
   "outputs": [],
   "source": [
    "train = train_data.dropna().reset_index(drop = True)"
   ]
  },
  {
   "cell_type": "code",
   "execution_count": 127,
   "metadata": {},
   "outputs": [],
   "source": [
    "features_train = train.drop(['date','rougher.output.recovery'] , axis=1)\n",
    "target_train = train['rougher.output.recovery']"
   ]
  },
  {
   "cell_type": "markdown",
   "metadata": {},
   "source": [
    "# MAE для ручного подсчёта:"
   ]
  },
  {
   "cell_type": "code",
   "execution_count": 128,
   "metadata": {},
   "outputs": [],
   "source": [
    "def manual_recovery(data):\n",
    "    c = data['rougher.output.concentrate_au']\n",
    "    f = data['rougher.input.feed_au']\n",
    "    t = data['rougher.output.tail_au']\n",
    "    numerator = c*(f-t)\n",
    "    divider = f*(c-t)\n",
    "    recovery = numerator/divider\n",
    "    return recovery*100\n",
    "train['manual_recovery'] = train.apply(manual_recovery, axis=1)"
   ]
  },
  {
   "cell_type": "code",
   "execution_count": 129,
   "metadata": {},
   "outputs": [],
   "source": [
    "def mae(target, predictions):\n",
    "    total_error = 0\n",
    "    for i in range(target.shape[0]):\n",
    "        error = np.abs(target[i]-predictions[i])\n",
    "        total_error =np.sum(error)\n",
    "    return total_error / target.shape[0]"
   ]
  },
  {
   "cell_type": "code",
   "execution_count": 130,
   "metadata": {},
   "outputs": [
    {
     "name": "stdout",
     "output_type": "stream",
     "text": [
      "MAE = 2.5798047953530004e-18\n",
      "Среднее = 82.7418884610155\n"
     ]
    }
   ],
   "source": [
    "print('MAE =',mae(train['manual_recovery'],train['rougher.output.recovery']))\n",
    "print('Среднее =',train['rougher.output.recovery'].mean())"
   ]
  },
  {
   "cell_type": "markdown",
   "metadata": {},
   "source": [
    "MAE очень низкий, по сравнению со средним значением."
   ]
  },
  {
   "cell_type": "code",
   "execution_count": 131,
   "metadata": {},
   "outputs": [
    {
     "data": {
      "text/plain": [
       "['final.output.concentrate_ag',\n",
       " 'final.output.concentrate_pb',\n",
       " 'final.output.concentrate_sol',\n",
       " 'final.output.concentrate_au',\n",
       " 'final.output.recovery',\n",
       " 'final.output.tail_ag',\n",
       " 'final.output.tail_pb',\n",
       " 'final.output.tail_sol',\n",
       " 'final.output.tail_au',\n",
       " 'primary_cleaner.output.concentrate_ag',\n",
       " 'primary_cleaner.output.concentrate_pb',\n",
       " 'primary_cleaner.output.concentrate_sol',\n",
       " 'primary_cleaner.output.concentrate_au',\n",
       " 'primary_cleaner.output.tail_ag',\n",
       " 'primary_cleaner.output.tail_pb',\n",
       " 'primary_cleaner.output.tail_sol',\n",
       " 'primary_cleaner.output.tail_au',\n",
       " 'rougher.calculation.sulfate_to_au_concentrate',\n",
       " 'rougher.calculation.floatbank10_sulfate_to_au_feed',\n",
       " 'rougher.calculation.floatbank11_sulfate_to_au_feed',\n",
       " 'rougher.calculation.au_pb_ratio',\n",
       " 'rougher.output.concentrate_ag',\n",
       " 'rougher.output.concentrate_pb',\n",
       " 'rougher.output.concentrate_sol',\n",
       " 'rougher.output.concentrate_au',\n",
       " 'rougher.output.recovery',\n",
       " 'rougher.output.tail_ag',\n",
       " 'rougher.output.tail_pb',\n",
       " 'rougher.output.tail_sol',\n",
       " 'rougher.output.tail_au',\n",
       " 'secondary_cleaner.output.tail_ag',\n",
       " 'secondary_cleaner.output.tail_pb',\n",
       " 'secondary_cleaner.output.tail_sol',\n",
       " 'secondary_cleaner.output.tail_au']"
      ]
     },
     "execution_count": 131,
     "metadata": {},
     "output_type": "execute_result"
    }
   ],
   "source": [
    "columns_test = test.columns\n",
    "columns_train = train_data.columns\n",
    "delited_columns_test = []\n",
    "for i in range(len(columns_train)):\n",
    "    if columns_train[i] not in columns_test:\n",
    "        delited_column = columns_train[i]\n",
    "        delited_columns_test.append(delited_column)\n",
    "        #print(columns_train[i])\n",
    "delited_columns_test"
   ]
  },
  {
   "cell_type": "markdown",
   "metadata": {},
   "source": [
    "# 2. Анализ данных"
   ]
  },
  {
   "cell_type": "code",
   "execution_count": 132,
   "metadata": {},
   "outputs": [],
   "source": [
    "# IQR = Q 3 - Q 1\n",
    "#Q1-3*IQR до Q3+3*IQR\n",
    "# Сделаем функцию для создания графиков:\n",
    "\n",
    "def print_hist(data,columns):\n",
    "    median = data[columns].median()\n",
    "    Q1 = data.loc[data[columns]<median][columns].median()\n",
    "    Q3 = data.loc[data[columns]>median][columns].median()\n",
    "    IQR = Q3-Q1\n",
    "    data[columns].hist(bins=30,range=(Q1-3*IQR, Q3+3*IQR )) #label='label'\n",
    "    plt.show()"
   ]
  },
  {
   "cell_type": "markdown",
   "metadata": {},
   "source": [
    "# 2.1 Как меняется концентрация металлов (Au, Ag, Pb) на различных этапах очистки:"
   ]
  },
  {
   "cell_type": "markdown",
   "metadata": {},
   "source": [
    "# concentrate_ag"
   ]
  },
  {
   "cell_type": "code",
   "execution_count": 133,
   "metadata": {},
   "outputs": [
    {
     "data": {
      "text/plain": [
       "<matplotlib.axes._subplots.AxesSubplot at 0x7f40e017f690>"
      ]
     },
     "execution_count": 133,
     "metadata": {},
     "output_type": "execute_result"
    },
    {
     "data": {
      "image/png": "[encoded data removed]",
      "text/plain": [
       "<Figure size 432x288 with 1 Axes>"
      ]
     },
     "metadata": {
      "needs_background": "light"
     },
     "output_type": "display_data"
    }
   ],
   "source": [
    "final_output_concentrate_ag = full['final.output.concentrate_ag']\n",
    "frame_final_output_concentrate_ag = final_output_concentrate_ag.to_frame()\n",
    "\n",
    "plt.ylim(0, 20)\n",
    "frame_final_output_concentrate_ag.boxplot()"
   ]
  },
  {
   "cell_type": "code",
   "execution_count": 134,
   "metadata": {},
   "outputs": [
    {
     "data": {
      "image/png": "[encoded data removed]",
      "text/plain": [
       "<Figure size 432x288 with 1 Axes>"
      ]
     },
     "metadata": {
      "needs_background": "light"
     },
     "output_type": "display_data"
    }
   ],
   "source": [
    "print_hist(full,'final.output.concentrate_ag')"
   ]
  },
  {
   "cell_type": "code",
   "execution_count": 135,
   "metadata": {},
   "outputs": [
    {
     "data": {
      "text/plain": [
       "<matplotlib.axes._subplots.AxesSubplot at 0x7f40dffa9890>"
      ]
     },
     "execution_count": 135,
     "metadata": {},
     "output_type": "execute_result"
    },
    {
     "data": {
      "image/png": "[encoded data removed]",
      "text/plain": [
       "<Figure size 432x288 with 1 Axes>"
      ]
     },
     "metadata": {
      "needs_background": "light"
     },
     "output_type": "display_data"
    }
   ],
   "source": [
    "primary_cleaner_output_concentrate_ag = full['primary_cleaner.output.concentrate_ag']\n",
    "frame_primary_cleaner_output_concentrate_ag = primary_cleaner_output_concentrate_ag.to_frame()\n",
    "\n",
    "plt.ylim(0, 20)\n",
    "frame_primary_cleaner_output_concentrate_ag.boxplot()"
   ]
  },
  {
   "cell_type": "code",
   "execution_count": 136,
   "metadata": {},
   "outputs": [
    {
     "data": {
      "image/png": "[encoded data removed]",
      "text/plain": [
       "<Figure size 432x288 with 1 Axes>"
      ]
     },
     "metadata": {
      "needs_background": "light"
     },
     "output_type": "display_data"
    }
   ],
   "source": [
    "print_hist(full,'primary_cleaner.output.concentrate_ag')"
   ]
  },
  {
   "cell_type": "code",
   "execution_count": 137,
   "metadata": {},
   "outputs": [
    {
     "data": {
      "text/plain": [
       "<matplotlib.axes._subplots.AxesSubplot at 0x7f40db701110>"
      ]
     },
     "execution_count": 137,
     "metadata": {},
     "output_type": "execute_result"
    },
    {
     "data": {
      "image/png": "[encoded data removed]",
      "text/plain": [
       "<Figure size 432x288 with 1 Axes>"
      ]
     },
     "metadata": {
      "needs_background": "light"
     },
     "output_type": "display_data"
    }
   ],
   "source": [
    "rougher_output_concentrate_ag = full['rougher.output.concentrate_ag']\n",
    "frame_rougher_output_concentrate_ag = rougher_output_concentrate_ag.to_frame()\n",
    "\n",
    "plt.ylim(0, 20)\n",
    "frame_rougher_output_concentrate_ag.boxplot()"
   ]
  },
  {
   "cell_type": "code",
   "execution_count": 138,
   "metadata": {},
   "outputs": [
    {
     "data": {
      "image/png": "[encoded data removed]",
      "text/plain": [
       "<Figure size 432x288 with 1 Axes>"
      ]
     },
     "metadata": {
      "needs_background": "light"
     },
     "output_type": "display_data"
    }
   ],
   "source": [
    "print_hist(full,'rougher.output.concentrate_ag')"
   ]
  },
  {
   "cell_type": "markdown",
   "metadata": {},
   "source": [
    "# concentrate_au"
   ]
  },
  {
   "cell_type": "code",
   "execution_count": 139,
   "metadata": {},
   "outputs": [
    {
     "data": {
      "text/plain": [
       "<matplotlib.axes._subplots.AxesSubplot at 0x7f40df942a10>"
      ]
     },
     "execution_count": 139,
     "metadata": {},
     "output_type": "execute_result"
    },
    {
     "data": {
      "image/png": "[encoded data removed]",
      "text/plain": [
       "<Figure size 432x288 with 1 Axes>"
      ]
     },
     "metadata": {
      "needs_background": "light"
     },
     "output_type": "display_data"
    }
   ],
   "source": [
    "final_output_concentrate_au = full['final.output.concentrate_au']\n",
    "frame_final_output_concentrate_au = final_output_concentrate_au.to_frame()\n",
    "\n",
    "plt.ylim(0, 60)\n",
    "frame_final_output_concentrate_au.boxplot()"
   ]
  },
  {
   "cell_type": "code",
   "execution_count": 140,
   "metadata": {},
   "outputs": [
    {
     "data": {
      "image/png": "[encoded data removed]",
      "text/plain": [
       "<Figure size 432x288 with 1 Axes>"
      ]
     },
     "metadata": {
      "needs_background": "light"
     },
     "output_type": "display_data"
    }
   ],
   "source": [
    "print_hist(full,'final.output.concentrate_au')"
   ]
  },
  {
   "cell_type": "code",
   "execution_count": 141,
   "metadata": {},
   "outputs": [
    {
     "data": {
      "text/plain": [
       "<matplotlib.axes._subplots.AxesSubplot at 0x7f40df803410>"
      ]
     },
     "execution_count": 141,
     "metadata": {},
     "output_type": "execute_result"
    },
    {
     "data": {
      "image/png": "[encoded data removed]",
      "text/plain": [
       "<Figure size 432x288 with 1 Axes>"
      ]
     },
     "metadata": {
      "needs_background": "light"
     },
     "output_type": "display_data"
    }
   ],
   "source": [
    "primary_cleaner_output_concentrate_au = full['primary_cleaner.output.concentrate_au']\n",
    "frame_primary_cleaner_output_concentrate_au = primary_cleaner_output_concentrate_au.to_frame()\n",
    "\n",
    "plt.ylim(0, 60)\n",
    "frame_primary_cleaner_output_concentrate_au.boxplot()"
   ]
  },
  {
   "cell_type": "code",
   "execution_count": 142,
   "metadata": {},
   "outputs": [
    {
     "data": {
      "image/png": "[encoded data removed]",
      "text/plain": [
       "<Figure size 432x288 with 1 Axes>"
      ]
     },
     "metadata": {
      "needs_background": "light"
     },
     "output_type": "display_data"
    }
   ],
   "source": [
    "print_hist(full,'primary_cleaner.output.concentrate_au')"
   ]
  },
  {
   "cell_type": "code",
   "execution_count": 143,
   "metadata": {},
   "outputs": [
    {
     "data": {
      "text/plain": [
       "<matplotlib.axes._subplots.AxesSubplot at 0x7f40e022d9d0>"
      ]
     },
     "execution_count": 143,
     "metadata": {},
     "output_type": "execute_result"
    },
    {
     "data": {
      "image/png": "[encoded data removed]",
      "text/plain": [
       "<Figure size 432x288 with 1 Axes>"
      ]
     },
     "metadata": {
      "needs_background": "light"
     },
     "output_type": "display_data"
    }
   ],
   "source": [
    "rougher_output_concentrate_au = full['rougher.output.concentrate_au']\n",
    "frame_rougher_output_concentrate_au = rougher_output_concentrate_au.to_frame()\n",
    "\n",
    "plt.ylim(0, 60)\n",
    "frame_rougher_output_concentrate_au.boxplot()"
   ]
  },
  {
   "cell_type": "code",
   "execution_count": 144,
   "metadata": {},
   "outputs": [
    {
     "data": {
      "image/png": "[encoded data removed]",
      "text/plain": [
       "<Figure size 432x288 with 1 Axes>"
      ]
     },
     "metadata": {
      "needs_background": "light"
     },
     "output_type": "display_data"
    }
   ],
   "source": [
    "print_hist(full,'rougher.output.concentrate_au')"
   ]
  },
  {
   "cell_type": "markdown",
   "metadata": {},
   "source": [
    "# concentrate_pb"
   ]
  },
  {
   "cell_type": "code",
   "execution_count": 145,
   "metadata": {},
   "outputs": [
    {
     "data": {
      "text/plain": [
       "<matplotlib.axes._subplots.AxesSubplot at 0x7f40dffb9550>"
      ]
     },
     "execution_count": 145,
     "metadata": {},
     "output_type": "execute_result"
    },
    {
     "data": {
      "image/png": "[encoded data removed]",
      "text/plain": [
       "<Figure size 432x288 with 1 Axes>"
      ]
     },
     "metadata": {
      "needs_background": "light"
     },
     "output_type": "display_data"
    }
   ],
   "source": [
    "final_output_concentrate_pb = full['final.output.concentrate_pb']\n",
    "frame_final_output_concentrate_pb = final_output_concentrate_pb.to_frame()\n",
    "\n",
    "plt.ylim(0, 30)\n",
    "frame_final_output_concentrate_pb.boxplot()"
   ]
  },
  {
   "cell_type": "code",
   "execution_count": 146,
   "metadata": {},
   "outputs": [
    {
     "data": {
      "image/png": "[encoded data removed]",
      "text/plain": [
       "<Figure size 432x288 with 1 Axes>"
      ]
     },
     "metadata": {
      "needs_background": "light"
     },
     "output_type": "display_data"
    }
   ],
   "source": [
    "print_hist(full,'final.output.concentrate_pb')"
   ]
  },
  {
   "cell_type": "code",
   "execution_count": 147,
   "metadata": {},
   "outputs": [
    {
     "data": {
      "text/plain": [
       "<matplotlib.axes._subplots.AxesSubplot at 0x7f40dfcc50d0>"
      ]
     },
     "execution_count": 147,
     "metadata": {},
     "output_type": "execute_result"
    },
    {
     "data": {
      "image/png": "[encoded data removed]",
      "text/plain": [
       "<Figure size 432x288 with 1 Axes>"
      ]
     },
     "metadata": {
      "needs_background": "light"
     },
     "output_type": "display_data"
    }
   ],
   "source": [
    "primary_cleaner_output_concentrate_pb = full['primary_cleaner.output.concentrate_pb']\n",
    "frame_primary_cleaner_output_concentrate_pb = primary_cleaner_output_concentrate_pb.to_frame()\n",
    "\n",
    "plt.ylim(0, 30)\n",
    "frame_primary_cleaner_output_concentrate_pb.boxplot()"
   ]
  },
  {
   "cell_type": "code",
   "execution_count": 148,
   "metadata": {},
   "outputs": [
    {
     "data": {
      "image/png": "[encoded data removed]",
      "text/plain": [
       "<Figure size 432x288 with 1 Axes>"
      ]
     },
     "metadata": {
      "needs_background": "light"
     },
     "output_type": "display_data"
    }
   ],
   "source": [
    "print_hist(full,'primary_cleaner.output.concentrate_pb')"
   ]
  },
  {
   "cell_type": "code",
   "execution_count": 149,
   "metadata": {},
   "outputs": [
    {
     "data": {
      "text/plain": [
       "<matplotlib.axes._subplots.AxesSubplot at 0x7f40df7988d0>"
      ]
     },
     "execution_count": 149,
     "metadata": {},
     "output_type": "execute_result"
    },
    {
     "data": {
      "image/png": "[encoded data removed]",
      "text/plain": [
       "<Figure size 432x288 with 1 Axes>"
      ]
     },
     "metadata": {
      "needs_background": "light"
     },
     "output_type": "display_data"
    }
   ],
   "source": [
    "rougher_output_concentrate_pb = full['rougher.output.concentrate_pb']\n",
    "frame_rougher_output_concentrate_pb = rougher_output_concentrate_pb.to_frame()\n",
    "\n",
    "plt.ylim(0, 30)\n",
    "frame_rougher_output_concentrate_pb.boxplot()"
   ]
  },
  {
   "cell_type": "code",
   "execution_count": 150,
   "metadata": {},
   "outputs": [
    {
     "data": {
      "image/png": "[encoded data removed]",
      "text/plain": [
       "<Figure size 432x288 with 1 Axes>"
      ]
     },
     "metadata": {
      "needs_background": "light"
     },
     "output_type": "display_data"
    }
   ],
   "source": [
    "print_hist(full,'rougher.output.concentrate_pb')"
   ]
  },
  {
   "cell_type": "markdown",
   "metadata": {},
   "source": [
    "Вывод: самое важное для золотодобывающей компании было - получить как можно больший концентрат золота в руде - каждый этап обработки - повышает концентрацию золота."
   ]
  },
  {
   "cell_type": "markdown",
   "metadata": {},
   "source": [
    "# 2.2 Распределение размеров гранул сырья на обучающей и тестовой выборках"
   ]
  },
  {
   "cell_type": "markdown",
   "metadata": {},
   "source": [
    "# На обучающей выборке:"
   ]
  },
  {
   "cell_type": "code",
   "execution_count": 151,
   "metadata": {},
   "outputs": [
    {
     "data": {
      "text/plain": [
       "count    16443.000000\n",
       "mean        58.676444\n",
       "std         23.922591\n",
       "min          9.659576\n",
       "25%         47.575879\n",
       "50%         54.104257\n",
       "75%         65.051064\n",
       "max        484.967466\n",
       "Name: rougher.input.feed_size, dtype: float64"
      ]
     },
     "execution_count": 151,
     "metadata": {},
     "output_type": "execute_result"
    },
    {
     "data": {
      "image/png": "[encoded data removed]",
      "text/plain": [
       "<Figure size 432x288 with 1 Axes>"
      ]
     },
     "metadata": {
      "needs_background": "light"
     },
     "output_type": "display_data"
    }
   ],
   "source": [
    "train_rougher_input_feed_size = train_data['rougher.input.feed_size']\n",
    "train_frame_rougher_input_feed_size = train_rougher_input_feed_size.to_frame()\n",
    "\n",
    "plt.ylim(0, 100)\n",
    "train_frame_rougher_input_feed_size.boxplot()\n",
    "train_data['rougher.input.feed_size'].describe()"
   ]
  },
  {
   "cell_type": "code",
   "execution_count": 152,
   "metadata": {},
   "outputs": [
    {
     "data": {
      "image/png": "[encoded data removed]",
      "text/plain": [
       "<Figure size 432x288 with 1 Axes>"
      ]
     },
     "metadata": {
      "needs_background": "light"
     },
     "output_type": "display_data"
    }
   ],
   "source": [
    "print_hist(train_data,'rougher.input.feed_size')"
   ]
  },
  {
   "cell_type": "code",
   "execution_count": 153,
   "metadata": {},
   "outputs": [
    {
     "data": {
      "text/plain": [
       "count    16860.000000\n",
       "mean         7.297285\n",
       "std          0.619166\n",
       "min          1.080000\n",
       "25%          6.940000\n",
       "50%          7.285000\n",
       "75%          7.700000\n",
       "max         10.470000\n",
       "Name: primary_cleaner.input.feed_size, dtype: float64"
      ]
     },
     "execution_count": 153,
     "metadata": {},
     "output_type": "execute_result"
    },
    {
     "data": {
      "image/png": "[encoded data removed]",
      "text/plain": [
       "<Figure size 432x288 with 1 Axes>"
      ]
     },
     "metadata": {
      "needs_background": "light"
     },
     "output_type": "display_data"
    }
   ],
   "source": [
    "train_primary_cleaner_input_feed_size = train_data['primary_cleaner.input.feed_size']\n",
    "train_frame_primary_cleaner_input_feed_size = train_primary_cleaner_input_feed_size.to_frame()\n",
    "\n",
    "plt.ylim(0, 15)\n",
    "train_frame_primary_cleaner_input_feed_size.boxplot()\n",
    "train_data['primary_cleaner.input.feed_size'].describe()"
   ]
  },
  {
   "cell_type": "code",
   "execution_count": 154,
   "metadata": {},
   "outputs": [
    {
     "data": {
      "image/png": "[encoded data removed]",
      "text/plain": [
       "<Figure size 432x288 with 1 Axes>"
      ]
     },
     "metadata": {
      "needs_background": "light"
     },
     "output_type": "display_data"
    }
   ],
   "source": [
    "print_hist(train_data,'primary_cleaner.input.feed_size')"
   ]
  },
  {
   "cell_type": "markdown",
   "metadata": {},
   "source": [
    "# На тестовой выборке:"
   ]
  },
  {
   "cell_type": "code",
   "execution_count": 155,
   "metadata": {},
   "outputs": [
    {
     "data": {
      "text/plain": [
       "count    5834.000000\n",
       "mean       55.937535\n",
       "std        22.724254\n",
       "min         0.046369\n",
       "25%        43.890852\n",
       "50%        50.002004\n",
       "75%        61.638434\n",
       "max       477.445473\n",
       "Name: rougher.input.feed_size, dtype: float64"
      ]
     },
     "execution_count": 155,
     "metadata": {},
     "output_type": "execute_result"
    },
    {
     "data": {
      "image/png": "[encoded data removed]",
      "text/plain": [
       "<Figure size 432x288 with 1 Axes>"
      ]
     },
     "metadata": {
      "needs_background": "light"
     },
     "output_type": "display_data"
    }
   ],
   "source": [
    "test_rougher_input_feed_size = test['rougher.input.feed_size']\n",
    "test_frame_rougher_input_feed_size = test_rougher_input_feed_size.to_frame()\n",
    "\n",
    "plt.ylim(0, 100)\n",
    "test_frame_rougher_input_feed_size.boxplot()\n",
    "test['rougher.input.feed_size'].describe()"
   ]
  },
  {
   "cell_type": "code",
   "execution_count": 156,
   "metadata": {},
   "outputs": [
    {
     "data": {
      "image/png": "[encoded data removed]",
      "text/plain": [
       "<Figure size 432x288 with 1 Axes>"
      ]
     },
     "metadata": {
      "needs_background": "light"
     },
     "output_type": "display_data"
    }
   ],
   "source": [
    "print_hist(test,'rougher.input.feed_size')"
   ]
  },
  {
   "cell_type": "code",
   "execution_count": 157,
   "metadata": {},
   "outputs": [
    {
     "data": {
      "text/plain": [
       "count    5856.000000\n",
       "mean        7.264651\n",
       "std         0.611526\n",
       "min         5.650000\n",
       "25%         6.885625\n",
       "50%         7.259333\n",
       "75%         7.650000\n",
       "max        15.500000\n",
       "Name: primary_cleaner.input.feed_size, dtype: float64"
      ]
     },
     "execution_count": 157,
     "metadata": {},
     "output_type": "execute_result"
    },
    {
     "data": {
      "image/png": "[encoded data removed]",
      "text/plain": [
       "<Figure size 432x288 with 1 Axes>"
      ]
     },
     "metadata": {
      "needs_background": "light"
     },
     "output_type": "display_data"
    }
   ],
   "source": [
    "test_primary_cleaner_input_feed_size = test['primary_cleaner.input.feed_size']\n",
    "test_frame_primary_cleaner_input_feed_size = test_primary_cleaner_input_feed_size.to_frame()\n",
    "\n",
    "plt.ylim(0, 15)\n",
    "test_frame_primary_cleaner_input_feed_size.boxplot()\n",
    "test['primary_cleaner.input.feed_size'].describe()"
   ]
  },
  {
   "cell_type": "code",
   "execution_count": 158,
   "metadata": {},
   "outputs": [
    {
     "data": {
      "image/png": "[encoded data removed]",
      "text/plain": [
       "<Figure size 432x288 with 1 Axes>"
      ]
     },
     "metadata": {
      "needs_background": "light"
     },
     "output_type": "display_data"
    }
   ],
   "source": [
    "print_hist(test,'primary_cleaner.input.feed_size')"
   ]
  },
  {
   "cell_type": "markdown",
   "metadata": {},
   "source": [
    "Вывод: Распределение различается, но не существенным образом."
   ]
  },
  {
   "cell_type": "markdown",
   "metadata": {},
   "source": [
    "# 2.3 Суммарная концентрацию всех веществ на разных стадиях: в сырье, в черновом и финальном концентратах"
   ]
  },
  {
   "cell_type": "markdown",
   "metadata": {},
   "source": [
    "# Концентрация в сырье:"
   ]
  },
  {
   "cell_type": "code",
   "execution_count": 159,
   "metadata": {},
   "outputs": [],
   "source": [
    "def add_feed_total_concentrate(data):\n",
    "    feed_ag = data['rougher.input.feed_ag']\n",
    "    feed_pb = data['rougher.input.feed_pb']\n",
    "    feed_sol = data['rougher.input.feed_sol']\n",
    "    feed_au = data['rougher.input.feed_au']\n",
    "    total_concentrate = feed_ag + feed_pb + feed_sol + feed_au\n",
    "    return total_concentrate\n",
    "full['feed_total_concentrate'] = full.apply(add_feed_total_concentrate, axis=1)"
   ]
  },
  {
   "cell_type": "code",
   "execution_count": 160,
   "metadata": {},
   "outputs": [
    {
     "data": {
      "image/png": "[encoded data removed]",
      "text/plain": [
       "<Figure size 432x288 with 1 Axes>"
      ]
     },
     "metadata": {
      "needs_background": "light"
     },
     "output_type": "display_data"
    }
   ],
   "source": [
    "full['feed_total_concentrate'].hist(bins=30) #label='label'\n",
    "plt.show()\n",
    "# Гистаграмма всех значений"
   ]
  },
  {
   "cell_type": "markdown",
   "metadata": {},
   "source": [
    "# В черновом концентрате:"
   ]
  },
  {
   "cell_type": "code",
   "execution_count": 161,
   "metadata": {},
   "outputs": [],
   "source": [
    "def add_rougher_output_total_concentrate(data):\n",
    "    feed_ag = data['rougher.output.concentrate_ag']\n",
    "    feed_pb = data['rougher.output.concentrate_pb']\n",
    "    feed_sol = data['rougher.output.concentrate_sol']\n",
    "    feed_au = data['rougher.output.concentrate_au']\n",
    "    total_concentrate = feed_ag + feed_pb + feed_sol + feed_au\n",
    "    return total_concentrate\n",
    "full['rougher_output_total_concentrate'] = full.apply(add_rougher_output_total_concentrate, axis=1)"
   ]
  },
  {
   "cell_type": "code",
   "execution_count": 162,
   "metadata": {},
   "outputs": [
    {
     "data": {
      "image/png": "[encoded data removed]",
      "text/plain": [
       "<Figure size 432x288 with 1 Axes>"
      ]
     },
     "metadata": {
      "needs_background": "light"
     },
     "output_type": "display_data"
    }
   ],
   "source": [
    "full['rougher_output_total_concentrate'].hist(bins=30) #label='label'\n",
    "plt.show()"
   ]
  },
  {
   "cell_type": "markdown",
   "metadata": {},
   "source": [
    "# Финальный концентрат:"
   ]
  },
  {
   "cell_type": "code",
   "execution_count": 163,
   "metadata": {},
   "outputs": [],
   "source": [
    "def add_final_output_total_concentrate(data):\n",
    "    feed_ag = data['final.output.concentrate_ag']\n",
    "    feed_pb = data['final.output.concentrate_pb']\n",
    "    feed_sol = data['final.output.concentrate_sol']\n",
    "    feed_au = data['final.output.concentrate_au']\n",
    "    total_concentrate = feed_ag + feed_pb + feed_sol + feed_au\n",
    "    return total_concentrate\n",
    "full['final_output_total_concentrate'] = full.apply(add_final_output_total_concentrate, axis=1)"
   ]
  },
  {
   "cell_type": "code",
   "execution_count": 164,
   "metadata": {},
   "outputs": [
    {
     "data": {
      "image/png": "[encoded data removed]",
      "text/plain": [
       "<Figure size 432x288 with 1 Axes>"
      ]
     },
     "metadata": {
      "needs_background": "light"
     },
     "output_type": "display_data"
    }
   ],
   "source": [
    "full['final_output_total_concentrate'].hist(bins=30) #label='label'\n",
    "plt.show()"
   ]
  },
  {
   "cell_type": "markdown",
   "metadata": {},
   "source": [
    "Бывает очень бедная руда, в которой отсуствует золото и другие полезные в промышленности металлы.\n",
    "\n",
    "В такой бедной руде концентрация таких металлов может достигать нуля. Поэтому я считаю, что нуль это не аномальное, а нормальное значение.\n",
    "\n",
    "Однако, переосмыслив цель нашей работы - это именно построения модели, которая расчитывает эффективность обогащения - нам не нужно считать обогащение руды, в которой нечего обогащать, так как она бедная, поэтому избавимся от этой руды:"
   ]
  },
  {
   "cell_type": "code",
   "execution_count": 165,
   "metadata": {},
   "outputs": [],
   "source": [
    "null_feed_total_concentrate = full.loc[full['feed_total_concentrate'] ==0]\n",
    "null_rougher_output_total_concentrate = full.loc[full['rougher_output_total_concentrate'] ==0]\n",
    "null_final_output_total_concentrate = full.loc[full['final_output_total_concentrate'] ==0]"
   ]
  },
  {
   "cell_type": "code",
   "execution_count": 166,
   "metadata": {},
   "outputs": [],
   "source": [
    "have_feed_total_concentrate = full.query('@full.index not in @null_feed_total_concentrate.index')\n",
    "\n",
    "have_rougher_output_total_concentrate = have_feed_total_concentrate.query('@have_feed_total_concentrate.index not in @null_rougher_output_total_concentrate.index')\n",
    "\n",
    "have_final_output_total_concentrate = have_rougher_output_total_concentrate.query('@have_rougher_output_total_concentrate.index not in @null_final_output_total_concentrate.index')"
   ]
  },
  {
   "cell_type": "markdown",
   "metadata": {},
   "source": [
    "# 3. Модель"
   ]
  },
  {
   "cell_type": "code",
   "execution_count": 167,
   "metadata": {},
   "outputs": [],
   "source": [
    "def return_sMAPE(target, predictions):\n",
    "    predictions0 = pd.Series(predictions)\n",
    "    total_result = 0\n",
    "    for i in range(target.shape[0]):\n",
    "        numerator = np.abs(target-predictions)\n",
    "        denominator = (np.abs(target) + np.abs(predictions))/2\n",
    "        result = numerator/denominator*100\n",
    "        total_result = np.sum(result)\n",
    "    return total_result / target.shape[0]"
   ]
  },
  {
   "cell_type": "code",
   "execution_count": 168,
   "metadata": {},
   "outputs": [],
   "source": [
    "test_data = have_final_output_total_concentrate.dropna().reset_index(drop = True)\n",
    "\n",
    "train = train.drop(['manual_recovery'], axis='columns')\n",
    "\n",
    "test_data = test_data.drop(['final_output_total_concentrate', 'rougher_output_total_concentrate', 'feed_total_concentrate'], axis='columns')"
   ]
  },
  {
   "cell_type": "code",
   "execution_count": 169,
   "metadata": {},
   "outputs": [],
   "source": [
    "features_train0= train.drop(['date','rougher.output.recovery'] , axis=1)\n",
    "target_train0= train['rougher.output.recovery']\n",
    "features_valid0 = test_data.drop(['date','rougher.output.recovery'] , axis=1)\n",
    "target0 = test_data['rougher.output.recovery']\n",
    "\n",
    "features_train1 = train.drop(['date','final.output.recovery'] , axis=1)\n",
    "target_train1 = train['final.output.recovery']\n",
    "features_valid1=test_data.drop(['date','final.output.recovery'] , axis=1)\n",
    "target1=test_data['final.output.recovery']"
   ]
  },
  {
   "cell_type": "code",
   "execution_count": 170,
   "metadata": {},
   "outputs": [],
   "source": [
    "#test_data.info()"
   ]
  },
  {
   "cell_type": "code",
   "execution_count": 171,
   "metadata": {},
   "outputs": [],
   "source": [
    "#train.info()"
   ]
  },
  {
   "cell_type": "markdown",
   "metadata": {},
   "source": [
    "# Модель случайного леса:"
   ]
  },
  {
   "cell_type": "code",
   "execution_count": 191,
   "metadata": {},
   "outputs": [
    {
     "name": "stdout",
     "output_type": "stream",
     "text": [
      "Итоговое sMAPE = 5.105141855493814 : n_estimators = 10 max_depth = 5\n",
      "Итоговое sMAPE = 3.0294834775443307 : n_estimators = 10 max_depth = 10\n",
      "Итоговое sMAPE = 2.696715509968569 : n_estimators = 10 max_depth = 15\n",
      "Итоговое sMAPE = 2.6429885977558945 : n_estimators = 10 max_depth = 20\n",
      "Итоговое sMAPE = 2.664359589549706 : n_estimators = 10 max_depth = 25\n",
      "Итоговое sMAPE = 2.66103915117126 : n_estimators = 10 max_depth = 30\n",
      "Итоговое sMAPE = 5.146736010805455 : n_estimators = 20 max_depth = 5\n",
      "Итоговое sMAPE = 3.0810696797372894 : n_estimators = 20 max_depth = 10\n",
      "Итоговое sMAPE = 2.763777639841072 : n_estimators = 20 max_depth = 15\n",
      "Итоговое sMAPE = 2.7123339892449154 : n_estimators = 20 max_depth = 20\n",
      "Итоговое sMAPE = 2.7292251086236967 : n_estimators = 20 max_depth = 25\n",
      "Итоговое sMAPE = 2.713419434180474 : n_estimators = 20 max_depth = 30\n",
      "Итоговое sMAPE = 5.159833350109997 : n_estimators = 30 max_depth = 5\n",
      "Итоговое sMAPE = 3.1723866047741036 : n_estimators = 30 max_depth = 10\n",
      "Итоговое sMAPE = 2.8359431062267335 : n_estimators = 30 max_depth = 15\n",
      "Итоговое sMAPE = 2.8079700286784224 : n_estimators = 30 max_depth = 20\n",
      "Итоговое sMAPE = 2.815058649160446 : n_estimators = 30 max_depth = 25\n",
      "Итоговое sMAPE = 2.8126731106216614 : n_estimators = 30 max_depth = 30\n"
     ]
    }
   ],
   "source": [
    "for forest in range(10, 31, 10):\n",
    "    for depth in range(5, 31, 5):\n",
    "        model_rougher_output_recovery = RandomForestRegressor(n_estimators=forest, max_depth=depth, random_state=0)\n",
    "        model_rougher_output_recovery.fit(features_train0, target_train0)\n",
    "        predictions_rougher_output_recovery = model_rougher_output_recovery.predict(features_valid0)\n",
    "        sMAPE_rougher = return_sMAPE(target0, predictions_rougher_output_recovery)\n",
    "\n",
    "        model_final_output_recovery = RandomForestRegressor(n_estimators=forest, max_depth=depth, random_state=0)\n",
    "        model_final_output_recovery.fit(features_train1, target_train1)\n",
    "        predictions_final_output_recovery = model_final_output_recovery.predict(features_valid1)\n",
    "        sMAPE_final = return_sMAPE(target1, predictions_final_output_recovery)\n",
    "\n",
    "        result_sMAPE = sMAPE_rougher*0.25 + sMAPE_final*0.75\n",
    "        print('Итоговое sMAPE =', result_sMAPE,': n_estimators =',forest,'max_depth =',depth)"
   ]
  },
  {
   "cell_type": "code",
   "execution_count": 192,
   "metadata": {},
   "outputs": [
    {
     "name": "stdout",
     "output_type": "stream",
     "text": [
      "Итоговое sMAPE = 3.204626634919776\n"
     ]
    }
   ],
   "source": [
    "LinearRegressionmodel_rougher_output_recovery = LinearRegression()\n",
    "LinearRegressionmodel_rougher_output_recovery.fit(features_train0, target_train0)\n",
    "predictions_LinearRegressionmodel_rougher_output_recovery = LinearRegressionmodel_rougher_output_recovery.predict(features_valid0)\n",
    "sMAPE_rougher = return_sMAPE(target0, predictions_LinearRegressionmodel_rougher_output_recovery)\n",
    "\n",
    "LinearRegressionmodel_final_output_recovery = RandomForestRegressor(n_estimators=forest, max_depth=depth, random_state=0)\n",
    "LinearRegressionmodel_final_output_recovery.fit(features_train1, target_train1)\n",
    "predictions_LinearRegressionmodel_final_output_recovery = LinearRegressionmodel_final_output_recovery.predict(features_valid1)\n",
    "sMAPE_final = return_sMAPE(target1, predictions_LinearRegressionmodel_final_output_recovery)\n",
    "\n",
    "result_sMAPE = sMAPE_rougher*0.25 + sMAPE_final*0.75\n",
    "print('Итоговое sMAPE =', result_sMAPE)"
   ]
  },
  {
   "cell_type": "markdown",
   "metadata": {},
   "source": [
    "Вывод: лучшая модель случайный лес с гиперпараметрами n_estimators = 10 max_depth = 20, проверим её на тестовой выборке:"
   ]
  },
  {
   "cell_type": "code",
   "execution_count": 186,
   "metadata": {},
   "outputs": [],
   "source": [
    "train_for_test = train.drop(delited_columns_test , axis=1)\n",
    "\n",
    "test.index = test['date']\n",
    "full.index = full['date']\n",
    "\n",
    "test['rougher.output.recovery'] = full['rougher.output.recovery']\n",
    "test['final.output.recovery'] = full['final.output.recovery']\n",
    "test = test.dropna().reset_index(drop = True)\n",
    "full = full.reset_index(drop = True)"
   ]
  },
  {
   "cell_type": "code",
   "execution_count": 187,
   "metadata": {},
   "outputs": [],
   "source": [
    "features_train01= train_for_test.drop(['date'], axis=1)\n",
    "target_train01= train['rougher.output.recovery']\n",
    "\n",
    "features_valid01 = test.drop(['date','rougher.output.recovery','final.output.recovery'], axis=1)\n",
    "target01 = test['rougher.output.recovery']\n",
    "\n",
    "\n",
    "features_train10 = train_for_test.drop(['date'] , axis=1)\n",
    "target_train10 = train['final.output.recovery']\n",
    "\n",
    "features_valid10 = test.drop(['date','rougher.output.recovery','final.output.recovery'], axis=1)\n",
    "target10 = test['final.output.recovery']"
   ]
  },
  {
   "cell_type": "code",
   "execution_count": 193,
   "metadata": {},
   "outputs": [
    {
     "name": "stdout",
     "output_type": "stream",
     "text": [
      "Итоговое sMAPE = 8.07846292498293\n"
     ]
    }
   ],
   "source": [
    "model_rougher_output_recovery = RandomForestRegressor(n_estimators=10, max_depth=20, random_state=0)\n",
    "model_rougher_output_recovery.fit(features_train01, target_train01)\n",
    "predictions_rougher_output_recovery = model_rougher_output_recovery.predict(features_valid01)\n",
    "sMAPE_rougher = return_sMAPE(target01, predictions_rougher_output_recovery)\n",
    "\n",
    "model_final_output_recovery = RandomForestRegressor(n_estimators=10, max_depth=20, random_state=0)\n",
    "model_final_output_recovery.fit(features_train10, target_train10)\n",
    "predictions_final_output_recovery = model_final_output_recovery.predict(features_valid10)\n",
    "sMAPE_final = return_sMAPE(target10, predictions_final_output_recovery)\n",
    "\n",
    "result_sMAPE = sMAPE_rougher*0.25 + sMAPE_final*0.75\n",
    "print('Итоговое sMAPE =', result_sMAPE)"
   ]
  },
  {
   "cell_type": "markdown",
   "metadata": {},
   "source": [
    "# Кросс-валидация"
   ]
  },
  {
   "cell_type": "code",
   "execution_count": 178,
   "metadata": {},
   "outputs": [],
   "source": [
    "scores = []\n",
    "\n",
    "# зададим размер блока, если их всего три\n",
    "sample_size = int(len(test_data)/3)\n",
    "\n",
    "for i in range(0, len(test_data), sample_size):\n",
    "    next_index = i+int(len(test_data)/sample_size)\n",
    "    valid = test_data[i:next_index]\n",
    "    train = test_data.query('@test_data.index not in @valid.index')\n",
    "    \n",
    "# разбейте переменные features и target на выборки features_train, target_train, features_valid, target_valid    \n",
    "    features_train0= train.drop(['date','rougher.output.recovery'] , axis=1)\n",
    "    target_train0= train['rougher.output.recovery']\n",
    "    features_valid0 = valid.drop(['date','rougher.output.recovery'] , axis=1)\n",
    "    target0 = valid['rougher.output.recovery']\n",
    "\n",
    "    features_train1 = train.drop(['date','final.output.recovery'] , axis=1)\n",
    "    target_train1 = train['final.output.recovery']\n",
    "    features_valid1=valid.drop(['date','final.output.recovery'] , axis=1)\n",
    "    target1=valid['final.output.recovery']\n",
    "\n",
    "    model_rougher_output_recovery = RandomForestRegressor(n_estimators=10, max_depth=10, random_state=0)\n",
    "    model_rougher_output_recovery.fit(features_train0, target_train0)\n",
    "    predictions_rougher_output_recovery = model_rougher_output_recovery.predict(features_valid0)\n",
    "    sMAPE_rougher = return_sMAPE(target0, predictions_rougher_output_recovery)\n",
    "\n",
    "    model_final_output_recovery = RandomForestRegressor(n_estimators=10, max_depth=10, random_state=0)\n",
    "    model_final_output_recovery.fit(features_train1, target_train1)\n",
    "    predictions_final_output_recovery = model_final_output_recovery.predict(features_valid1)\n",
    "    sMAPE_final = return_sMAPE(target1, predictions_final_output_recovery)\n",
    "    score = sMAPE_rougher*0.25 + sMAPE_final*0.75\n",
    "    scores.append(score)\n",
    "    \n",
    "scores = pd.Series(scores)\n",
    "final_score = scores.mean()"
   ]
  },
  {
   "cell_type": "code",
   "execution_count": 181,
   "metadata": {},
   "outputs": [
    {
     "name": "stdout",
     "output_type": "stream",
     "text": [
      "Средняя оценка качества модели: 2.841686544567633\n"
     ]
    }
   ],
   "source": [
    "print('Средняя оценка качества модели:', final_score)"
   ]
  },
  {
   "cell_type": "markdown",
   "metadata": {},
   "source": [
    "# Простой метод предсказания, без методов машинного обучения:"
   ]
  },
  {
   "cell_type": "code",
   "execution_count": 180,
   "metadata": {},
   "outputs": [
    {
     "name": "stdout",
     "output_type": "stream",
     "text": [
      "8.161878795136197\n"
     ]
    }
   ],
   "source": [
    "target_pred_constant0 = pd.Series(test_data['rougher.output.recovery'].mean(),index=target0.index)\n",
    "sMAPE_rougher0 = return_sMAPE(target0, target_pred_constant0)\n",
    "target_pred_constant1 = pd.Series(test_data['final.output.recovery'].mean(),index=target1.index)\n",
    "sMAPE_final0 = return_sMAPE(target1, target_pred_constant1)\n",
    "scores0 = sMAPE_rougher0*0.25 + sMAPE_final0*0.75\n",
    "\n",
    "print(scores0)"
   ]
  },
  {
   "cell_type": "markdown",
   "metadata": {},
   "source": [
    "Вывод:\n",
    "\n",
    "Мы провели обширный анализ данных, создали новую метрику эффеткивности sMAPE, которую создали в виде функции и затем применяли как метрику для проверки адекватности работы моделей машинного обучения, чтобы выбрать лучшую модель.\n",
    "\n",
    "В тестовую выборку мы подтянули данные таргета из фулл данных, чтобы данные подтянулись корректно мы за индекс временно приняли строчку date, а затем ресетнули индексы за ненадобностью. В итоге у нас получилось рассчитать sMAPE и на тестовой выборке.\n",
    "\n",
    "кросс валидация была написанна в ручную, так как функция cross-val-score - использует в качестве метрики не функцию sMAPE, а другую метрику.\n",
    "\n",
    "Так же мы проверили проверку адекватности модели - модель предсказывает значение лучше, чем простой метод без машинного обучения."
   ]
  },
  {
   "cell_type": "markdown",
   "metadata": {},
   "source": [
    "#### комментирий по кросс-валидации\n",
    "\n",
    "<span style=\"color:purple\"> Но это вроде есть в sklearne:) Ты даже импортнул cross-val-score) </span>\n",
    "\n",
    "<span style=\"color:green\"> Круто, что можешь сделать ручками кросс-валидацию. Это полезно понимать, как оно внутри работает) </span>\n",
    "\n",
    "https://scikit-learn.org/stable/modules/generated/sklearn.metrics.make_scorer.html\n",
    "    \n",
    "<span style=\"color:purple\"> Смотри, sklearn на то и очень популярен, что много чего кастомного можно сделать поверх него или при участии его функwий) Например свою функцию оценки)  Ссылка выше, нужно будет лишь передать в сам cross-val-score</span>"
   ]
  }
 ],
 "metadata": {
  "kernelspec": {
   "display_name": "Python 3",
   "language": "python",
   "name": "python3"
  },
  "language_info": {
   "codemirror_mode": {
    "name": "ipython",
    "version": 3
   },
   "file_extension": ".py",
   "mimetype": "text/x-python",
   "name": "python",
   "nbconvert_exporter": "python",
   "pygments_lexer": "ipython3",
   "version": "3.7.6"
  }
 },
 "nbformat": 4,
 "nbformat_minor": 2
}
