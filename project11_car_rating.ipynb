{
 "cells": [
  {
   "cell_type": "markdown",
   "metadata": {},
   "source": [
    "# Проект 11 создание модели для определения рыночной цены авто\n",
    "\n",
    "### Задание:\n",
    "\n",
    "Сервис по продаже автомобилей с пробегом «Не бит, не крашен» разрабатывает приложение для привлечения новых клиентов. В нём можно быстро узнать рыночную стоимость своего автомобиля. В вашем распоряжении исторические данные: технические характеристики, комплектации и цены автомобилей. Вам нужно построить модель для определения стоимости. \n",
    "\n",
    "Заказчику важны:\n",
    "\n",
    "- качество предсказания;\n",
    "- скорость предсказания;\n",
    "- время обучения.\n",
    "\n",
    "# 1. Подготовка данных\n",
    "\n",
    "Признаки\n",
    "\n",
    "DateCrawled — дата скачивания анкеты из базы\n",
    "\n",
    "VehicleType — тип автомобильного кузова\n",
    "\n",
    "RegistrationYear — год регистрации автомобиля\n",
    "\n",
    "Gearbox — тип коробки передач\n",
    "\n",
    "Power — мощность (л. с.)\n",
    "\n",
    "Model — модель автомобиля\n",
    "\n",
    "Kilometer — пробег (км)\n",
    "\n",
    "RegistrationMonth — месяц регистрации автомобиля\n",
    "\n",
    "FuelType — тип топлива\n",
    "\n",
    "Brand — марка автомобиля\n",
    "\n",
    "NotRepaired — была машина в ремонте или нет\n",
    "\n",
    "DateCreated — дата создания анкеты\n",
    "\n",
    "NumberOfPictures — количество фотографий автомобиля\n",
    "\n",
    "PostalCode — почтовый индекс владельца анкеты (пользователя)\n",
    "\n",
    "LastSeen — дата последней активности пользователя\n",
    "\n",
    "Целевой признак:\n",
    "\n",
    "Price — цена (евро)"
   ]
  },
  {
   "cell_type": "code",
   "execution_count": 1,
   "metadata": {},
   "outputs": [],
   "source": [
    "import pandas as pd\n",
    "import numpy as np\n",
    "\n",
    "from sklearn.model_selection import train_test_split\n",
    "\n",
    "from sklearn import preprocessing\n",
    "\n",
    "from sklearn.preprocessing import StandardScaler\n",
    "from sklearn.preprocessing import OrdinalEncoder\n",
    "\n",
    "from sklearn.metrics import mean_squared_error #RMSE для метрики\n",
    "\n",
    "import lightgbm as lgb\n",
    "from catboost import CatBoostRegressor\n",
    "\n",
    "data = pd.read_csv('/datasets/autos.csv')\n",
    "\n",
    "#data\n",
    "\n",
    "#data.info()"
   ]
  },
  {
   "cell_type": "markdown",
   "metadata": {},
   "source": [
    "# 2. Обучение моделей\n",
    "\n",
    "# 2.1 Проверяем модель на библитеке LightGBM"
   ]
  },
  {
   "cell_type": "code",
   "execution_count": 2,
   "metadata": {},
   "outputs": [],
   "source": [
    "#Удалим не значимые признаки\n",
    "data = data.drop(['DateCrawled','RegistrationMonth','DateCreated','PostalCode','LastSeen'], axis=1)\n",
    "\n",
    "#обработаем пропуски:\n",
    "data = data.fillna('unknown')\n",
    "\n",
    "#data = pd.get_dummies(data, drop_first=True)\n",
    "\n",
    "#Перевод текстовых свойств в числовой формат:\n",
    "\n",
    "columns_coding = ['VehicleType','Gearbox','Model','FuelType','Brand','NotRepaired']\n",
    "\n",
    "label_encoder = preprocessing.LabelEncoder()\n",
    "for colum in columns_coding:\n",
    "    label_encoder.fit(data[colum])\n",
    "    data[colum] = label_encoder.transform(data[colum]) \n",
    "\n",
    "df_train, df_valid_and_test = train_test_split(data, test_size=0.4, random_state=12345)\n",
    "df_test, df_valid = train_test_split(df_valid_and_test, test_size=0.5, random_state=12345)\n",
    "\n",
    "features_train = df_train.drop(['Price'], axis=1)\n",
    "target_train = df_train['Price']\n",
    "\n",
    "features_valid = df_valid.drop(['Price'], axis=1)\n",
    "target_valid =  df_valid['Price']\n",
    "\n",
    "features_test = df_test.drop(['Price'], axis=1)\n",
    "target_test =  df_test['Price']\n",
    "\n",
    "#data.info()"
   ]
  },
  {
   "cell_type": "markdown",
   "metadata": {},
   "source": [
    "## Комментарий наставника\n",
    "<span style=\"color:orange\">С удалением лишних признаков полностью согласен. К слову, есть ещё один лишний признак, который можно спокойно удалить. \\\n",
    "Лучше не удалять пропущенные значения. Так как все они находятся в категориальных признаках, то лучшим вариантом будет заполнение их меткой «unknown»/«other». Таким образом мы сохраним значительный объем данных для обучения.</span> \\\n",
    "<span style=\"color:red\">Прямое кодирование, которое ты использовал, подходит для линейных моделей (например, линейной регрессии), а для всех других моделей (включая LightGBM) более эффективно порядковое кодирование. Используй его. \\\n",
    "Кроме этого, разбей датасет на 3 выборки: добавь ещё тестовую к двум (для финальной оценки лучшей модели с подобранными на валидационной выборке гиперпараметрами).</span> \\\n",
    "<span style=\"color:orange\">UPD 12.06.2020 Всё здорово, только для кодирования категориальных признаков **обучения** используй **OrdinalEncoder**: https://scikit-learn.org/stable/modules/generated/sklearn.preprocessing.OrdinalEncoder.html?highlight=ordinalencoder#sklearn.preprocessing.OrdinalEncoder. **LabelEncoder** используется для кодирования категориальных **целевых** признаков.</span>\n",
    "\n",
    "# Комментарий от ученика:\n",
    "я прочитал как работает OrdinalEncoder и LabelEncoder, разница оказалась не такой большой, OrdinalEncoder начинает кодировать с единицы, а LabelEncoder с 0, это так значимо?\n",
    "\n",
    "<span style=\"color:orange\">Нет, ничего страшного не случится, если закодируешь с помощью LabelEncoder, просто OrdinalEncoder более удобен в использовании, так как позволяет закодировать сразу несколько признаков (для выполнения этой операции с LabelEncoder придётся воспользоваться циклом/функцией).</span>"
   ]
  },
  {
   "cell_type": "code",
   "execution_count": 3,
   "metadata": {},
   "outputs": [],
   "source": [
    "#Отмаштабируем данные:\n",
    "\n",
    "numeric = ['RegistrationYear', 'Power', 'Kilometer', 'NumberOfPictures']\n",
    "\n",
    "scaler = StandardScaler()\n",
    "scaler.fit(features_train[numeric])\n",
    "\n",
    "features_train[numeric] = scaler.transform(features_train[numeric])\n",
    "\n",
    "features_valid[numeric] = scaler.transform(features_valid[numeric])\n",
    "\n",
    "features_test[numeric] = scaler.transform(features_test[numeric])\n",
    "\n",
    "mean_price = data['Price'].mean()\n",
    "\n",
    "data_train = lgb.Dataset (features_train, label = target_train)"
   ]
  },
  {
   "cell_type": "markdown",
   "metadata": {},
   "source": [
    "## Комментарий наставника\n",
    "<span style=\"color:green\">Хорошо.</span> \\\n",
    "<span style=\"color:orange\">UPD 13.06.2020 Признак с количеством изображений можно удалить, так как он никак не повлияет на цену авто.</span>"
   ]
  },
  {
   "cell_type": "code",
   "execution_count": 58,
   "metadata": {},
   "outputs": [
    {
     "name": "stdout",
     "output_type": "stream",
     "text": [
      "\n",
      "min_data_in_leaf = 100\n",
      "\n",
      "rmse = 2621.232863545899\n",
      "\n",
      "depth = 1 Модель в среднем ошибается в 0.5934880151612925 раз от средней цены\n",
      "\n",
      "rmse = 1975.901239281225\n",
      "\n",
      "depth = 4 Модель в среднем ошибается в 0.4473748673627593 раз от средней цены\n",
      "\n",
      "rmse = 1836.1781782487453\n",
      "\n",
      "depth = 7 Модель в среднем ошибается в 0.41573938647219455 раз от средней цены\n",
      "\n",
      "min_data_in_leaf = 300\n",
      "\n",
      "rmse = 2621.232863545899\n",
      "\n",
      "depth = 1 Модель в среднем ошибается в 0.5934880151612925 раз от средней цены\n",
      "\n",
      "rmse = 1980.319554324417\n",
      "\n",
      "depth = 4 Модель в среднем ошибается в 0.4483752428203575 раз от средней цены\n",
      "\n",
      "rmse = 1858.0083504034365\n",
      "\n",
      "depth = 7 Модель в среднем ошибается в 0.4206820780288656 раз от средней цены\n",
      "\n",
      "min_data_in_leaf = 500\n",
      "\n",
      "rmse = 2621.232863545899\n",
      "\n",
      "depth = 1 Модель в среднем ошибается в 0.5934880151612925 раз от средней цены\n",
      "\n",
      "rmse = 1989.2297619830824\n",
      "\n",
      "depth = 4 Модель в среднем ошибается в 0.45039265284583035 раз от средней цены\n",
      "\n",
      "rmse = 1877.4988365869367\n",
      "\n",
      "depth = 7 Модель в среднем ошибается в 0.42509502817932504 раз от средней цены\n",
      "\n",
      "min_data_in_leaf = 700\n",
      "\n",
      "rmse = 2621.232863545899\n",
      "\n",
      "depth = 1 Модель в среднем ошибается в 0.5934880151612925 раз от средней цены\n",
      "\n",
      "rmse = 1984.6230201523358\n",
      "\n",
      "depth = 4 Модель в среднем ошибается в 0.44934961462381146 раз от средней цены\n",
      "\n",
      "rmse = 1894.3661085790693\n",
      "\n",
      "depth = 7 Модель в среднем ошибается в 0.42891404171109293 раз от средней цены\n",
      "\n",
      "min_data_in_leaf = 900\n",
      "\n",
      "rmse = 2621.232863545899\n",
      "\n",
      "depth = 1 Модель в среднем ошибается в 0.5934880151612925 раз от средней цены\n",
      "\n",
      "rmse = 1991.249931421081\n",
      "\n",
      "depth = 4 Модель в среднем ошибается в 0.4508500507240278 раз от средней цены\n",
      "\n",
      "rmse = 1902.4308098173722\n",
      "\n",
      "depth = 7 Модель в среднем ошибается в 0.43074001589192723 раз от средней цены\n"
     ]
    }
   ],
   "source": [
    "for n in range(100, 1001, 200):\n",
    "    print()\n",
    "    print('min_data_in_leaf =',n)\n",
    "    for depth in range(1, 10, 3):\n",
    "    \n",
    "        params = {}\n",
    "        params['max_depth'] = depth\n",
    "        params['num_leaves'] = 2**depth\n",
    "        params['min_data_in_leaf'] = n\n",
    "        clf = lgb.train (params, data_train, 100)\n",
    "\n",
    "        predictions = clf.predict(features_valid)\n",
    "        rmse = mean_squared_error(predictions, target_valid)**0.5\n",
    "        \n",
    "        print()\n",
    "        print('rmse =',rmse)\n",
    "        \n",
    "        print()\n",
    "        print('depth =',depth,'Модель в среднем ошибается в',rmse/mean_price,'раз от средней цены')\n",
    "        #print()"
   ]
  },
  {
   "cell_type": "markdown",
   "metadata": {},
   "source": [
    "# 2.1.1 Анализ модели"
   ]
  },
  {
   "cell_type": "markdown",
   "metadata": {},
   "source": [
    "Методом перебора, был выбран гиперпараметр max_depth 16, который даёт максимальное качество модели, \n",
    "\n",
    "дальшейнее увеличение гиперпараметра ведёт не ведёт к увеличению качества модели, но увеличивает время обучения."
   ]
  },
  {
   "cell_type": "code",
   "execution_count": 4,
   "metadata": {},
   "outputs": [
    {
     "name": "stdout",
     "output_type": "stream",
     "text": [
      "rmse = 1729.7911857161218\n",
      "\n",
      "depth = 16 Модель в среднем ошибается в 0.39165171157872725 раз от средней цены\n",
      "\n",
      "CPU times: user 4min 55s, sys: 4.13 s, total: 5min\n",
      "Wall time: 5min 3s\n"
     ]
    }
   ],
   "source": [
    "%%time\n",
    "# cчитаем время с параметром ['min_data_in_leaf'] = 50\n",
    "\n",
    "params = {}\n",
    "max_depth = 16\n",
    "params['max_depth'] = max_depth\n",
    "params['num_leaves'] = 2**max_depth\n",
    "params['min_data_in_leaf'] = 50\n",
    "clf = lgb.train (params, data_train, 100)\n",
    "\n",
    "predictions = clf.predict(features_valid)\n",
    "rmse = mean_squared_error(predictions, target_valid)**0.5\n",
    "\n",
    "print('rmse =',rmse)\n",
    "\n",
    "print()\n",
    "print('depth =',max_depth,'Модель в среднем ошибается в',rmse/mean_price,'раз от средней цены')\n",
    "print()"
   ]
  },
  {
   "cell_type": "code",
   "execution_count": 5,
   "metadata": {},
   "outputs": [
    {
     "name": "stdout",
     "output_type": "stream",
     "text": [
      "rmse = 1867.6869600990362\n",
      "\n",
      "depth = 16 Модель в среднем ошибается в 0.42287346626363387 раз от средней цены\n",
      "\n",
      "CPU times: user 24.8 s, sys: 147 ms, total: 24.9 s\n",
      "Wall time: 25.2 s\n"
     ]
    }
   ],
   "source": [
    "%%time\n",
    "# cчитаем время с параметром ['min_data_in_leaf'] = 1000\n",
    "\n",
    "params = {}\n",
    "max_depth = 16\n",
    "params['max_depth'] = max_depth\n",
    "params['num_leaves'] = 2**max_depth\n",
    "params['min_data_in_leaf'] = 1000\n",
    "clf = lgb.train (params, data_train, 100)\n",
    "\n",
    "predictions = clf.predict(features_valid)\n",
    "rmse = mean_squared_error(predictions, target_valid)**0.5\n",
    "\n",
    "print('rmse =',rmse)\n",
    "\n",
    "print()\n",
    "print('depth =',max_depth,'Модель в среднем ошибается в',rmse/mean_price,'раз от средней цены')\n",
    "print()"
   ]
  },
  {
   "cell_type": "markdown",
   "metadata": {},
   "source": [
    "У второй модели по сравнению со первой:\n",
    "\n",
    "Качество ухудшилось на 8%, зато скорость возрасла в более чем 6,5 раз.\n",
    "\n",
    "Меняя гиперпараметр 'min_data_in_leaf' - можно увеличить скорость обучения, но так же ухудшается качество обучения."
   ]
  },
  {
   "cell_type": "markdown",
   "metadata": {},
   "source": [
    "# 2.1.2 Проверка модели на тестовых данных:"
   ]
  },
  {
   "cell_type": "code",
   "execution_count": 6,
   "metadata": {},
   "outputs": [
    {
     "name": "stdout",
     "output_type": "stream",
     "text": [
      "1854.267897264694\n",
      "\n",
      "Модель в среднем ошибается в 0.41983518108201706 раз от средней цены\n"
     ]
    }
   ],
   "source": [
    "predictions = clf.predict(features_test)\n",
    "rmse = mean_squared_error(predictions, target_test)**0.5\n",
    "\n",
    "print(rmse)\n",
    "print()\n",
    "print('Модель в среднем ошибается в',rmse/mean_price,'раз от средней цены')"
   ]
  },
  {
   "cell_type": "markdown",
   "metadata": {},
   "source": [
    "# 2.2 Проверяем модель на библиотеке CatBoost"
   ]
  },
  {
   "cell_type": "code",
   "execution_count": 7,
   "metadata": {},
   "outputs": [],
   "source": [
    "data = pd.read_csv('/datasets/autos.csv')\n",
    "\n",
    "#Удалим не значимые признаки\n",
    "data = data.drop(['DateCrawled','RegistrationMonth','DateCreated','PostalCode','LastSeen'], axis=1)\n",
    "\n",
    "#обработаем пропуски:\n",
    "data = data.fillna('unknown')\n",
    "\n",
    "#Перевод текстовых свойств в числовой формат:\n",
    "\n",
    "columns_coding = ['VehicleType','Gearbox','Model','FuelType','Brand','NotRepaired']\n",
    "\n",
    "#label_encoder = preprocessing.LabelEncoder()\n",
    "#for colum in columns_coding:\n",
    "#    label_encoder.fit(data[colum])\n",
    "#    data[colum] = label_encoder.transform(data[colum]) \n",
    "\n",
    "df_train, df_valid_and_test = train_test_split(data, test_size=0.4, random_state=12345)\n",
    "df_test, df_valid = train_test_split(df_valid_and_test, test_size=0.5, random_state=12345)\n",
    "\n",
    "features_train = df_train.drop(['Price'], axis=1)\n",
    "target_train = df_train['Price']\n",
    "\n",
    "features_valid = df_valid.drop(['Price'], axis=1)\n",
    "target_valid =  df_valid['Price']\n",
    "\n",
    "features_test = df_test.drop(['Price'], axis=1)\n",
    "target_test =  df_test['Price']"
   ]
  },
  {
   "cell_type": "code",
   "execution_count": 8,
   "metadata": {},
   "outputs": [
    {
     "name": "stdout",
     "output_type": "stream",
     "text": [
      "0:\tlearn: 4433.9533741\ttotal: 558ms\tremaining: 55.2s\n",
      "25:\tlearn: 3207.8570487\ttotal: 10.1s\tremaining: 28.9s\n",
      "50:\tlearn: 2651.2510410\ttotal: 19.4s\tremaining: 18.7s\n",
      "75:\tlearn: 2375.4155111\ttotal: 28.8s\tremaining: 9.1s\n",
      "99:\tlearn: 2262.6992779\ttotal: 37.9s\tremaining: 0us\n",
      "2273.7885636728925\n",
      "\n",
      "Модель в среднем ошибается в 0.5148212050588924 раз от средней цены\n",
      "CPU times: user 37.2 s, sys: 2.47 s, total: 39.6 s\n",
      "Wall time: 43.1 s\n"
     ]
    }
   ],
   "source": [
    "%%time\n",
    "\n",
    "cat_features = list(features_train.columns)\n",
    "\n",
    "#cat_features = ['VehicleType', 'RegistrationYear', 'Gearbox', 'Power', 'Model', 'Kilometer', 'FuelType', 'Brand', 'NotRepaired', 'NumberOfPictures']\n",
    "\n",
    "model = CatBoostRegressor(iterations=100)\n",
    "\n",
    "model.fit(features_train, target_train, cat_features=cat_features, verbose=25)\n",
    "\n",
    "probabilities_valid = model.predict(features_valid)\n",
    "#probabilities_one_valid = probabilities_valid[:, 1]\n",
    "\n",
    "rmse = mean_squared_error(target_valid, probabilities_valid)**0.5\n",
    "\n",
    "print(rmse)\n",
    "print()\n",
    "print('Модель в среднем ошибается в',rmse/mean_price,'раз от средней цены')"
   ]
  },
  {
   "cell_type": "markdown",
   "metadata": {},
   "source": [
    "## Комментарий наставника\n",
    "<span style=\"color:orange\">UPD 13.06.2020 Ты указал все признаки как категориальные, а не только действительно категориальные.</span>"
   ]
  },
  {
   "cell_type": "markdown",
   "metadata": {},
   "source": [
    "# проверка на тестовых данных:"
   ]
  },
  {
   "cell_type": "code",
   "execution_count": 9,
   "metadata": {},
   "outputs": [
    {
     "name": "stdout",
     "output_type": "stream",
     "text": [
      "2250.774802587906\n",
      "\n",
      "Модель в среднем ошибается в 0.5096105305027798 раз от средней цены\n"
     ]
    }
   ],
   "source": [
    "probabilities_valid = model.predict(features_test)\n",
    "#probabilities_one_valid = probabilities_valid[:, 1]\n",
    "\n",
    "rmse = mean_squared_error(target_test, probabilities_valid)**0.5\n",
    "\n",
    "print(rmse)\n",
    "print()\n",
    "print('Модель в среднем ошибается в',rmse/mean_price,'раз от средней цены')"
   ]
  },
  {
   "cell_type": "markdown",
   "metadata": {},
   "source": [
    "# Вывод:\n",
    "конкретно с этой задачью, отлично справились обе библиотеки: CatBoost и LightGBM\n",
    "\n",
    "обе библиотеки имеют свои минусы и плюсы, выбор лучшей библиотеки - это сложный вопрос, для точного ответа на который потребуется протестировать библиотеки на различных задачах, а после сделать вывод, какая лучше.\n",
    "\n",
    "если прочитать информацию по ссылке https://catboost.ai/#benchmark\n",
    "\n",
    "CatBoost - намного быстрее, и чуть более точен, чем LightGBM. \n",
    "\n",
    "Ура, замечательным разработчикам из Яндекса! <span style=\"color:green\">:)</span>"
   ]
  }
 ],
 "metadata": {
  "kernelspec": {
   "display_name": "Python 3",
   "language": "python",
   "name": "python3"
  },
  "language_info": {
   "codemirror_mode": {
    "name": "ipython",
    "version": 3
   },
   "file_extension": ".py",
   "mimetype": "text/x-python",
   "name": "python",
   "nbconvert_exporter": "python",
   "pygments_lexer": "ipython3",
   "version": "3.7.6"
  }
 },
 "nbformat": 4,
 "nbformat_minor": 2
}
