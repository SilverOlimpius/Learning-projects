{
 "cells": [
  {
   "cell_type": "code",
   "execution_count": 10,
   "metadata": {},
   "outputs": [
    {
     "name": "stdout",
     "output_type": "stream",
     "text": [
      "Overwriting New_Keras_Adam_2D.py\n"
     ]
    }
   ],
   "source": [
    "%%writefile New_Keras_Adam_2D.py\n",
    "\n",
    "from tensorflow.keras import Sequential\n",
    "from tensorflow.keras.layers import Conv2D, Flatten, Dense, AvgPool2D, AveragePooling2D, GlobalAveragePooling2D\n",
    "import matplotlib.pyplot as plt\n",
    "import numpy as np\n",
    "\n",
    "from tensorflow.keras.optimizers import Adam\n",
    "from tensorflow.keras.preprocessing.image import ImageDataGenerator\n",
    "\n",
    "def load_train(path):\n",
    "    train_datagen = ImageDataGenerator(rescale=1/255) #, horizontal_flip=True, vertical_flip=True, rotation_range=90, width_shift_range=0.2, height_shift_range=0.2)\n",
    "    \n",
    "    train_datagen_flow = train_datagen.flow_from_directory(\n",
    "    path,\n",
    "    target_size=(150, 150),\n",
    "    batch_size=32,\n",
    "    class_mode='sparse',\n",
    "    seed=12345)\n",
    "    return train_datagen_flow\n",
    "\n",
    "def create_model(input_shape):\n",
    "    model = Sequential()\n",
    "    model.add(Conv2D(filters=6, kernel_size=(5, 5), padding='same', activation=\"relu\", input_shape=input_shape))\n",
    "    model.add(AvgPool2D(pool_size=(2, 2), strides=None, padding='valid'))\n",
    "    model.add(Conv2D(filters=16, kernel_size=(5, 5), activation=\"relu\"))\n",
    "    model.add(AvgPool2D(pool_size=(2, 2), strides=None, padding='valid'))\n",
    "    model.add(Flatten())\n",
    "    model.add(Dense(units=64, activation='relu'))\n",
    "    model.add(Dense(units=32, activation='relu'))\n",
    "    model.add(Dense(units=12, activation='softmax'))\n",
    "    model.compile(optimizer=Adam(lr=0.001), loss='sparse_categorical_crossentropy', metrics=['acc'])\n",
    "\n",
    "    return model\n",
    "    \n",
    "\n",
    "def train_model(model, train_data, test_data, batch_size=None, epochs=1, steps_per_epoch=None, validation_steps=None):\n",
    "    \n",
    "    if steps_per_epoch is None:\n",
    "        steps_per_epoch = len(train_data)\n",
    "    if validation_steps is None:\n",
    "        validation_steps = len(test_data)\n",
    "        \n",
    "    model.fit(train_data, \n",
    "              validation_data=test_data,\n",
    "              batch_size=batch_size, epochs=epochs,\n",
    "              steps_per_epoch=steps_per_epoch,\n",
    "              validation_steps=validation_steps,\n",
    "              verbose=2, shuffle=True)\n",
    "\n",
    "    return model"
   ]
  },
  {
   "cell_type": "code",
   "execution_count": null,
   "metadata": {},
   "outputs": [],
   "source": []
  },
  {
   "cell_type": "code",
   "execution_count": null,
   "metadata": {},
   "outputs": [],
   "source": []
  }
 ],
 "metadata": {
  "kernelspec": {
   "display_name": "Python 3",
   "language": "python",
   "name": "python3"
  },
  "language_info": {
   "codemirror_mode": {
    "name": "ipython",
    "version": 3
   },
   "file_extension": ".py",
   "mimetype": "text/x-python",
   "name": "python",
   "nbconvert_exporter": "python",
   "pygments_lexer": "ipython3",
   "version": "3.7.6"
  }
 },
 "nbformat": 4,
 "nbformat_minor": 2
}
