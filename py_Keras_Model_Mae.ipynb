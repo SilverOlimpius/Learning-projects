{
 "cells": [
  {
   "cell_type": "code",
   "execution_count": 1,
   "metadata": {},
   "outputs": [
    {
     "name": "stdout",
     "output_type": "stream",
     "text": [
      "Writing Keras_Model_Mae.py\n"
     ]
    }
   ],
   "source": [
    "%%writefile Keras_Model_Mae.py\n",
    "\n",
    "from tensorflow.keras.models import Sequential\n",
    "from tensorflow.keras.layers import Conv2D, Flatten, Dense, AvgPool2D, AveragePooling2D, GlobalAveragePooling2D\n",
    "import matplotlib.pyplot as plt\n",
    "import numpy as np\n",
    "import pandas as pd\n",
    "\n",
    "from tensorflow.keras.optimizers import Adam\n",
    "from tensorflow.keras.preprocessing.image import ImageDataGenerator\n",
    "\n",
    "from tensorflow.keras.applications.resnet import ResNet50\n",
    "\n",
    "def load_train(path):\n",
    "    lables = pd.read_csv(path + 'labels.csv')\n",
    "    train_datagen = ImageDataGenerator(rescale=1./255, \n",
    "                                       vertical_flip=True, \n",
    "                                       horizontal_flip=True, \n",
    "                                       #rotation_range=30, \n",
    "                                       #width_shift_range=0.2,\n",
    "                                       #height_shift_range=0.2\n",
    "                                       validation_split=0.25\n",
    "                                      )\n",
    "    train_datagen_flow = train_datagen.flow_from_dataframe(\n",
    "        dataframe = lables, \n",
    "        directory = path + 'final_files/', \n",
    "        x_col = 'file_name', \n",
    "        y_col = 'real_age',\n",
    "        target_size = (224,224),\n",
    "        class_mode = 'raw', \n",
    "        batch_size = 32,\n",
    "        subset = 'training',\n",
    "        seed = 12345)\n",
    "\n",
    "    return train_datagen_flow\n",
    "\n",
    "\n",
    "\n",
    "def load_test(path):\n",
    "    lables = pd.read_csv(path + 'labels.csv')\n",
    "    test_datagen = ImageDataGenerator(rescale=1./255, \n",
    "                                      validation_split=0.25\n",
    "                                     )\n",
    "    test_datagen_flow = test_datagen.flow_from_dataframe(\n",
    "        dataframe = lables, \n",
    "        directory = path + 'final_files/', \n",
    "        x_col = 'file_name', \n",
    "        y_col = 'real_age', \n",
    "        class_mode = 'raw',\n",
    "        target_size = (224,224),\n",
    "        batch_size = 32,\n",
    "        subset = 'validation',\n",
    "        seed = 12345)\n",
    "\n",
    "    return test_datagen_flow\n",
    "    \n",
    "def create_model(input_shape):\n",
    "    backbone = ResNet50(input_shape=input_shape,\n",
    "                        weights='imagenet', \n",
    "                        include_top=False)\n",
    "    model = Sequential()\n",
    "    model.add(backbone)\n",
    "    model.add(GlobalAveragePooling2D())\n",
    "    model.add(Dense(1))\n",
    "    model.compile(optimizer=Adam(lr=0.0001), loss='mean_squared_error',metrics=['mae'])\n",
    "\n",
    "    return model\n",
    "\n",
    "def train_model(model, train_data, test_data, batch_size=None, epochs=5,steps_per_epoch=None, validation_steps=None):\n",
    "    \n",
    "    if steps_per_epoch is None:\n",
    "                 steps_per_epoch = len(train_data)\n",
    "    if validation_steps is None:\n",
    "                  validation_steps = len(test_data)\n",
    "            \n",
    "    model.fit(train_data,\n",
    "          validation_data=test_data,\n",
    "          batch_size=batch_size, epochs=epochs,\n",
    "          steps_per_epoch=steps_per_epoch,\n",
    "          validation_steps=validation_steps,\n",
    "          verbose=2, shuffle=True)\n",
    "    \n",
    "    return model"
   ]
  },
  {
   "cell_type": "code",
   "execution_count": null,
   "metadata": {},
   "outputs": [],
   "source": []
  },
  {
   "cell_type": "code",
   "execution_count": null,
   "metadata": {},
   "outputs": [],
   "source": []
  }
 ],
 "metadata": {
  "kernelspec": {
   "display_name": "Python 3",
   "language": "python",
   "name": "python3"
  },
  "language_info": {
   "codemirror_mode": {
    "name": "ipython",
    "version": 3
   },
   "file_extension": ".py",
   "mimetype": "text/x-python",
   "name": "python",
   "nbconvert_exporter": "python",
   "pygments_lexer": "ipython3",
   "version": "3.7.6"
  }
 },
 "nbformat": 4,
 "nbformat_minor": 2
}
